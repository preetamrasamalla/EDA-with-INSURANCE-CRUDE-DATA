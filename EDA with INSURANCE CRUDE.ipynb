{
 "cells": [
  {
   "cell_type": "markdown",
   "id": "fd987bb7",
   "metadata": {},
   "source": [
    "# PROJECT "
   ]
  },
  {
   "cell_type": "markdown",
   "id": "28eaea5f",
   "metadata": {},
   "source": [
    "__1. Merging data sets for ease of analysis__\n",
    "\n",
    "__2. Finding top 3 insurance Types__\n",
    "\n",
    "__3. Finding top 5 states where most insurance are__\n",
    "\n",
    "__4. adding a new column which tells  if customer state and incident state is same__\n",
    "\n",
    "__5. Finding out data entry errors and correcting them__\n",
    "\n",
    "__6. Some insurance calculations__\n",
    "\n",
    "__7. Agents working with multiple Insurance claims__\n",
    "\n",
    "__8. Finding Loyal Customers eligible for Discounts__\n",
    "\n",
    "__9. Companys Claim velocity calculations__\n",
    "\n",
    "__10. Workaholic & Suspicious agents__"
   ]
  },
  {
   "cell_type": "markdown",
   "id": "1a7fe50f",
   "metadata": {},
   "source": [
    "_At the start of most sections, there will be a Markdown cell labeled Discussion. In these cells, you find  report of my  findings for the completed section, as well as documented  decisions that you made in my approach to each subtask._"
   ]
  },
  {
   "cell_type": "markdown",
   "id": "6e71ecc6",
   "metadata": {},
   "source": [
    "_insights and solutions are provided at the end of each task__"
   ]
  },
  {
   "cell_type": "code",
   "execution_count": 1,
   "id": "41ec2579",
   "metadata": {},
   "outputs": [],
   "source": [
    "# import libraries here; add more as necessary\n",
    "import pandas as pd\n",
    "import numpy as np\n",
    "import seaborn as sbn\n",
    "import matplotlib.pyplot as mat\n",
    "%matplotlib inline"
   ]
  },
  {
   "cell_type": "markdown",
   "id": "2fe3c3a6",
   "metadata": {},
   "source": [
    "__STEP 1 : LOADING THE DATA (csv's)__"
   ]
  },
  {
   "cell_type": "markdown",
   "id": "de4f5db8",
   "metadata": {},
   "source": [
    "There are 3 associated files with this project\n",
    "\n",
    "\n",
    "1.insurance_data.csv , consist of all the major information like-Type of insurances and active states , insurance id's,policy numbers ,incidents , reports,claims\n",
    "\n",
    "\n",
    "2.employee_data.csv, all the information of employees working with insurance claims\n",
    "\n",
    "\n",
    "3.vendor_data.csv, the vendor personal data"
   ]
  },
  {
   "cell_type": "code",
   "execution_count": 2,
   "id": "4a7bfff5",
   "metadata": {},
   "outputs": [],
   "source": [
    "# Load in the general crude data provided.\n",
    "\n",
    "insurance = pd.read_csv('insurance_data.csv')\n",
    "employee = pd.read_csv('employee_data.csv')\n",
    "vendor = pd.read_csv('vendor_data.csv')"
   ]
  },
  {
   "cell_type": "code",
   "execution_count": 4,
   "id": "670ecf28",
   "metadata": {},
   "outputs": [
    {
     "data": {
      "text/plain": [
       "(600, 7)"
      ]
     },
     "execution_count": 4,
     "metadata": {},
     "output_type": "execute_result"
    }
   ],
   "source": [
    "# Check the structure of the data after it's loaded (e.g. print the number of\n",
    "# rows and columns, print the first few rows).\n",
    "\n",
    "insurance.shape"
   ]
  },
  {
   "cell_type": "code",
   "execution_count": 5,
   "id": "d617f867",
   "metadata": {},
   "outputs": [
    {
     "data": {
      "text/plain": [
       "(1200, 10)"
      ]
     },
     "execution_count": 5,
     "metadata": {},
     "output_type": "execute_result"
    }
   ],
   "source": [
    "employee.shape"
   ]
  },
  {
   "cell_type": "code",
   "execution_count": 6,
   "id": "8e8052cc",
   "metadata": {},
   "outputs": [
    {
     "data": {
      "text/plain": [
       "(600, 7)"
      ]
     },
     "execution_count": 6,
     "metadata": {},
     "output_type": "execute_result"
    }
   ],
   "source": [
    "vendor.shape"
   ]
  },
  {
   "cell_type": "markdown",
   "id": "33b37afd",
   "metadata": {},
   "source": [
    "--"
   ]
  },
  {
   "cell_type": "markdown",
   "id": "435e243e",
   "metadata": {},
   "source": [
    "--"
   ]
  },
  {
   "cell_type": "markdown",
   "id": "a16ca3d2",
   "metadata": {},
   "source": [
    "# TASK 1:  "
   ]
  },
  {
   "cell_type": "markdown",
   "id": "f3078bd0",
   "metadata": {},
   "source": [
    "## __Merging data sets for ease of analysis__"
   ]
  },
  {
   "cell_type": "code",
   "execution_count": 15,
   "id": "4c76b1d5",
   "metadata": {},
   "outputs": [],
   "source": [
    "# Use left Outer join as not all claims require Vendor!"
   ]
  },
  {
   "cell_type": "code",
   "execution_count": 18,
   "id": "29a361c6",
   "metadata": {},
   "outputs": [],
   "source": [
    "#merging all 3 data sets and creating a new data set \"data\"\n",
    "data=insurance.merge(employee,how ='left',on='AGENT_ID').merge(vendor, how='left',on='VENDOR_ID');"
   ]
  },
  {
   "cell_type": "code",
   "execution_count": 22,
   "id": "47bf0eff",
   "metadata": {},
   "outputs": [
    {
     "data": {
      "text/html": [
       "<div>\n",
       "<style scoped>\n",
       "    .dataframe tbody tr th:only-of-type {\n",
       "        vertical-align: middle;\n",
       "    }\n",
       "\n",
       "    .dataframe tbody tr th {\n",
       "        vertical-align: top;\n",
       "    }\n",
       "\n",
       "    .dataframe thead th {\n",
       "        text-align: right;\n",
       "    }\n",
       "</style>\n",
       "<table border=\"1\" class=\"dataframe\">\n",
       "  <thead>\n",
       "    <tr style=\"text-align: right;\">\n",
       "      <th></th>\n",
       "      <th>TXN_DATE_TIME</th>\n",
       "      <th>TRANSACTION_ID</th>\n",
       "      <th>CUSTOMER_ID</th>\n",
       "      <th>POLICY_NUMBER</th>\n",
       "      <th>POLICY_EFF_DT</th>\n",
       "      <th>LOSS_DT</th>\n",
       "      <th>REPORT_DT</th>\n",
       "      <th>INSURANCE_TYPE</th>\n",
       "      <th>PREMIUM_AMOUNT</th>\n",
       "      <th>CLAIM_AMOUNT</th>\n",
       "      <th>...</th>\n",
       "      <th>STATE_y</th>\n",
       "      <th>POSTAL_CODE_y</th>\n",
       "      <th>EMP_ROUTING_NUMBER</th>\n",
       "      <th>EMP_ACCT_NUMBER</th>\n",
       "      <th>VENDOR_NAME</th>\n",
       "      <th>ADDRESS_LINE1</th>\n",
       "      <th>ADDRESS_LINE2</th>\n",
       "      <th>CITY</th>\n",
       "      <th>STATE</th>\n",
       "      <th>POSTAL_CODE</th>\n",
       "    </tr>\n",
       "  </thead>\n",
       "  <tbody>\n",
       "    <tr>\n",
       "      <th>0</th>\n",
       "      <td>2020-06-01 00:00:00</td>\n",
       "      <td>TXN00000001</td>\n",
       "      <td>A00003822</td>\n",
       "      <td>PLC00008468</td>\n",
       "      <td>2015-06-23</td>\n",
       "      <td>2020-05-16</td>\n",
       "      <td>2020-05-21</td>\n",
       "      <td>Health</td>\n",
       "      <td>157.13</td>\n",
       "      <td>9000</td>\n",
       "      <td>...</td>\n",
       "      <td>TN</td>\n",
       "      <td>37217</td>\n",
       "      <td>35441155</td>\n",
       "      <td>LRZO53254369804934</td>\n",
       "      <td>Ramsey Inc</td>\n",
       "      <td>3114 West 20th Court</td>\n",
       "      <td>NaN</td>\n",
       "      <td>Panama City</td>\n",
       "      <td>FL</td>\n",
       "      <td>32405.0</td>\n",
       "    </tr>\n",
       "    <tr>\n",
       "      <th>1</th>\n",
       "      <td>2020-06-01 00:00:00</td>\n",
       "      <td>TXN00000002</td>\n",
       "      <td>A00008149</td>\n",
       "      <td>PLC00009594</td>\n",
       "      <td>2018-04-21</td>\n",
       "      <td>2020-05-13</td>\n",
       "      <td>2020-05-18</td>\n",
       "      <td>Property</td>\n",
       "      <td>141.71</td>\n",
       "      <td>26000</td>\n",
       "      <td>...</td>\n",
       "      <td>AZ</td>\n",
       "      <td>85301</td>\n",
       "      <td>44055451</td>\n",
       "      <td>XBYG14382904542874</td>\n",
       "      <td>Morales, Campbell and Washington</td>\n",
       "      <td>42 West Louise Street</td>\n",
       "      <td>B</td>\n",
       "      <td>Fayetteville</td>\n",
       "      <td>AR</td>\n",
       "      <td>72701.0</td>\n",
       "    </tr>\n",
       "    <tr>\n",
       "      <th>2</th>\n",
       "      <td>2020-06-01 00:00:00</td>\n",
       "      <td>TXN00000003</td>\n",
       "      <td>A00003172</td>\n",
       "      <td>PLC00007969</td>\n",
       "      <td>2019-10-03</td>\n",
       "      <td>2020-05-21</td>\n",
       "      <td>2020-05-26</td>\n",
       "      <td>Property</td>\n",
       "      <td>157.24</td>\n",
       "      <td>13000</td>\n",
       "      <td>...</td>\n",
       "      <td>AL</td>\n",
       "      <td>36105</td>\n",
       "      <td>55770246</td>\n",
       "      <td>WRXH14597428306333</td>\n",
       "      <td>Johnson Ltd</td>\n",
       "      <td>2619 North Quality Lane</td>\n",
       "      <td>#315</td>\n",
       "      <td>Fayetteville</td>\n",
       "      <td>AR</td>\n",
       "      <td>72703.0</td>\n",
       "    </tr>\n",
       "    <tr>\n",
       "      <th>3</th>\n",
       "      <td>2020-06-01 00:00:00</td>\n",
       "      <td>TXN00000004</td>\n",
       "      <td>A00007572</td>\n",
       "      <td>PLC00009292</td>\n",
       "      <td>2016-11-29</td>\n",
       "      <td>2020-05-14</td>\n",
       "      <td>2020-05-19</td>\n",
       "      <td>Health</td>\n",
       "      <td>172.87</td>\n",
       "      <td>16000</td>\n",
       "      <td>...</td>\n",
       "      <td>OK</td>\n",
       "      <td>73071</td>\n",
       "      <td>87652976</td>\n",
       "      <td>YEPN16077902472499</td>\n",
       "      <td>Blackwell-Foster</td>\n",
       "      <td>3609 Meadow Drive</td>\n",
       "      <td>NaN</td>\n",
       "      <td>Nashville</td>\n",
       "      <td>TN</td>\n",
       "      <td>37215.0</td>\n",
       "    </tr>\n",
       "    <tr>\n",
       "      <th>4</th>\n",
       "      <td>2020-06-01 00:00:00</td>\n",
       "      <td>TXN00000005</td>\n",
       "      <td>A00008173</td>\n",
       "      <td>PLC00000204</td>\n",
       "      <td>2011-12-26</td>\n",
       "      <td>2020-05-17</td>\n",
       "      <td>2020-05-22</td>\n",
       "      <td>Travel</td>\n",
       "      <td>88.53</td>\n",
       "      <td>3000</td>\n",
       "      <td>...</td>\n",
       "      <td>MD</td>\n",
       "      <td>21061</td>\n",
       "      <td>76119019</td>\n",
       "      <td>HZBK86544578578547</td>\n",
       "      <td>Evans-Scott</td>\n",
       "      <td>4001 19th Place Northeast</td>\n",
       "      <td>NaN</td>\n",
       "      <td>Washington</td>\n",
       "      <td>DC</td>\n",
       "      <td>20018.0</td>\n",
       "    </tr>\n",
       "    <tr>\n",
       "      <th>...</th>\n",
       "      <td>...</td>\n",
       "      <td>...</td>\n",
       "      <td>...</td>\n",
       "      <td>...</td>\n",
       "      <td>...</td>\n",
       "      <td>...</td>\n",
       "      <td>...</td>\n",
       "      <td>...</td>\n",
       "      <td>...</td>\n",
       "      <td>...</td>\n",
       "      <td>...</td>\n",
       "      <td>...</td>\n",
       "      <td>...</td>\n",
       "      <td>...</td>\n",
       "      <td>...</td>\n",
       "      <td>...</td>\n",
       "      <td>...</td>\n",
       "      <td>...</td>\n",
       "      <td>...</td>\n",
       "      <td>...</td>\n",
       "      <td>...</td>\n",
       "    </tr>\n",
       "    <tr>\n",
       "      <th>9995</th>\n",
       "      <td>2021-06-30 00:00:00</td>\n",
       "      <td>TXN00009996</td>\n",
       "      <td>A00006029</td>\n",
       "      <td>PLC00007245</td>\n",
       "      <td>2014-04-11</td>\n",
       "      <td>2021-06-25</td>\n",
       "      <td>2021-06-26</td>\n",
       "      <td>Motor</td>\n",
       "      <td>105.75</td>\n",
       "      <td>1000</td>\n",
       "      <td>...</td>\n",
       "      <td>AR</td>\n",
       "      <td>72703</td>\n",
       "      <td>35413882</td>\n",
       "      <td>LFOJ76068590051807</td>\n",
       "      <td>NaN</td>\n",
       "      <td>NaN</td>\n",
       "      <td>NaN</td>\n",
       "      <td>NaN</td>\n",
       "      <td>NaN</td>\n",
       "      <td>NaN</td>\n",
       "    </tr>\n",
       "    <tr>\n",
       "      <th>9996</th>\n",
       "      <td>2021-06-30 00:00:00</td>\n",
       "      <td>TXN00009997</td>\n",
       "      <td>A00003555</td>\n",
       "      <td>PLC00002590</td>\n",
       "      <td>2015-08-25</td>\n",
       "      <td>2021-06-12</td>\n",
       "      <td>2021-06-17</td>\n",
       "      <td>Life</td>\n",
       "      <td>64.59</td>\n",
       "      <td>67000</td>\n",
       "      <td>...</td>\n",
       "      <td>GA</td>\n",
       "      <td>31405</td>\n",
       "      <td>91206790</td>\n",
       "      <td>AHEF60771774635030</td>\n",
       "      <td>Newton, Hodges and Henry</td>\n",
       "      <td>32512 Christine Drive</td>\n",
       "      <td>NaN</td>\n",
       "      <td>Union City</td>\n",
       "      <td>CA</td>\n",
       "      <td>94587.0</td>\n",
       "    </tr>\n",
       "    <tr>\n",
       "      <th>9997</th>\n",
       "      <td>2021-06-30 00:00:00</td>\n",
       "      <td>TXN00009998</td>\n",
       "      <td>A00004230</td>\n",
       "      <td>PLC00006613</td>\n",
       "      <td>2018-10-11</td>\n",
       "      <td>2021-06-18</td>\n",
       "      <td>2021-06-23</td>\n",
       "      <td>Health</td>\n",
       "      <td>183.50</td>\n",
       "      <td>8000</td>\n",
       "      <td>...</td>\n",
       "      <td>KY</td>\n",
       "      <td>40272</td>\n",
       "      <td>115241097</td>\n",
       "      <td>WREH18805592939657</td>\n",
       "      <td>Reese-Mckinney</td>\n",
       "      <td>20 Garfield Street</td>\n",
       "      <td>NaN</td>\n",
       "      <td>Needham</td>\n",
       "      <td>MA</td>\n",
       "      <td>2492.0</td>\n",
       "    </tr>\n",
       "    <tr>\n",
       "      <th>9998</th>\n",
       "      <td>2021-06-30 00:00:00</td>\n",
       "      <td>TXN00009999</td>\n",
       "      <td>A00006694</td>\n",
       "      <td>PLC00001781</td>\n",
       "      <td>2016-01-29</td>\n",
       "      <td>2021-06-16</td>\n",
       "      <td>2021-06-21</td>\n",
       "      <td>Motor</td>\n",
       "      <td>113.46</td>\n",
       "      <td>2000</td>\n",
       "      <td>...</td>\n",
       "      <td>AR</td>\n",
       "      <td>72703</td>\n",
       "      <td>13995380</td>\n",
       "      <td>AAZI21883736448048</td>\n",
       "      <td>Harmon, Manning and Bradley</td>\n",
       "      <td>1823 Dinger Road</td>\n",
       "      <td>NaN</td>\n",
       "      <td>Annapolis</td>\n",
       "      <td>MD</td>\n",
       "      <td>21402.0</td>\n",
       "    </tr>\n",
       "    <tr>\n",
       "      <th>9999</th>\n",
       "      <td>2021-06-30 00:00:00</td>\n",
       "      <td>TXN00010000</td>\n",
       "      <td>A00000390</td>\n",
       "      <td>PLC00005197</td>\n",
       "      <td>2014-09-17</td>\n",
       "      <td>2021-06-21</td>\n",
       "      <td>2021-06-24</td>\n",
       "      <td>Mobile</td>\n",
       "      <td>8.22</td>\n",
       "      <td>300</td>\n",
       "      <td>...</td>\n",
       "      <td>OK</td>\n",
       "      <td>73003</td>\n",
       "      <td>39790996</td>\n",
       "      <td>RPES05613584687957</td>\n",
       "      <td>Foster-Sanchez</td>\n",
       "      <td>4255 Tanager Common</td>\n",
       "      <td>NaN</td>\n",
       "      <td>Fremont</td>\n",
       "      <td>CA</td>\n",
       "      <td>94555.0</td>\n",
       "    </tr>\n",
       "  </tbody>\n",
       "</table>\n",
       "<p>10000 rows × 53 columns</p>\n",
       "</div>"
      ],
      "text/plain": [
       "            TXN_DATE_TIME TRANSACTION_ID CUSTOMER_ID POLICY_NUMBER  \\\n",
       "0     2020-06-01 00:00:00    TXN00000001   A00003822   PLC00008468   \n",
       "1     2020-06-01 00:00:00    TXN00000002   A00008149   PLC00009594   \n",
       "2     2020-06-01 00:00:00    TXN00000003   A00003172   PLC00007969   \n",
       "3     2020-06-01 00:00:00    TXN00000004   A00007572   PLC00009292   \n",
       "4     2020-06-01 00:00:00    TXN00000005   A00008173   PLC00000204   \n",
       "...                   ...            ...         ...           ...   \n",
       "9995  2021-06-30 00:00:00    TXN00009996   A00006029   PLC00007245   \n",
       "9996  2021-06-30 00:00:00    TXN00009997   A00003555   PLC00002590   \n",
       "9997  2021-06-30 00:00:00    TXN00009998   A00004230   PLC00006613   \n",
       "9998  2021-06-30 00:00:00    TXN00009999   A00006694   PLC00001781   \n",
       "9999  2021-06-30 00:00:00    TXN00010000   A00000390   PLC00005197   \n",
       "\n",
       "     POLICY_EFF_DT     LOSS_DT   REPORT_DT INSURANCE_TYPE  PREMIUM_AMOUNT  \\\n",
       "0       2015-06-23  2020-05-16  2020-05-21         Health          157.13   \n",
       "1       2018-04-21  2020-05-13  2020-05-18       Property          141.71   \n",
       "2       2019-10-03  2020-05-21  2020-05-26       Property          157.24   \n",
       "3       2016-11-29  2020-05-14  2020-05-19         Health          172.87   \n",
       "4       2011-12-26  2020-05-17  2020-05-22         Travel           88.53   \n",
       "...            ...         ...         ...            ...             ...   \n",
       "9995    2014-04-11  2021-06-25  2021-06-26          Motor          105.75   \n",
       "9996    2015-08-25  2021-06-12  2021-06-17           Life           64.59   \n",
       "9997    2018-10-11  2021-06-18  2021-06-23         Health          183.50   \n",
       "9998    2016-01-29  2021-06-16  2021-06-21          Motor          113.46   \n",
       "9999    2014-09-17  2021-06-21  2021-06-24         Mobile            8.22   \n",
       "\n",
       "      CLAIM_AMOUNT  ... STATE_y POSTAL_CODE_y EMP_ROUTING_NUMBER  \\\n",
       "0             9000  ...      TN         37217           35441155   \n",
       "1            26000  ...      AZ         85301           44055451   \n",
       "2            13000  ...      AL         36105           55770246   \n",
       "3            16000  ...      OK         73071           87652976   \n",
       "4             3000  ...      MD         21061           76119019   \n",
       "...            ...  ...     ...           ...                ...   \n",
       "9995          1000  ...      AR         72703           35413882   \n",
       "9996         67000  ...      GA         31405           91206790   \n",
       "9997          8000  ...      KY         40272          115241097   \n",
       "9998          2000  ...      AR         72703           13995380   \n",
       "9999           300  ...      OK         73003           39790996   \n",
       "\n",
       "         EMP_ACCT_NUMBER                       VENDOR_NAME  \\\n",
       "0     LRZO53254369804934                        Ramsey Inc   \n",
       "1     XBYG14382904542874  Morales, Campbell and Washington   \n",
       "2     WRXH14597428306333                       Johnson Ltd   \n",
       "3     YEPN16077902472499                  Blackwell-Foster   \n",
       "4     HZBK86544578578547                       Evans-Scott   \n",
       "...                  ...                               ...   \n",
       "9995  LFOJ76068590051807                               NaN   \n",
       "9996  AHEF60771774635030          Newton, Hodges and Henry   \n",
       "9997  WREH18805592939657                    Reese-Mckinney   \n",
       "9998  AAZI21883736448048       Harmon, Manning and Bradley   \n",
       "9999  RPES05613584687957                    Foster-Sanchez   \n",
       "\n",
       "                  ADDRESS_LINE1 ADDRESS_LINE2          CITY  STATE  \\\n",
       "0          3114 West 20th Court           NaN   Panama City     FL   \n",
       "1         42 West Louise Street             B  Fayetteville     AR   \n",
       "2       2619 North Quality Lane          #315  Fayetteville     AR   \n",
       "3             3609 Meadow Drive           NaN     Nashville     TN   \n",
       "4     4001 19th Place Northeast           NaN    Washington     DC   \n",
       "...                         ...           ...           ...    ...   \n",
       "9995                        NaN           NaN           NaN    NaN   \n",
       "9996      32512 Christine Drive           NaN    Union City     CA   \n",
       "9997         20 Garfield Street           NaN       Needham     MA   \n",
       "9998           1823 Dinger Road           NaN     Annapolis     MD   \n",
       "9999        4255 Tanager Common           NaN       Fremont     CA   \n",
       "\n",
       "      POSTAL_CODE  \n",
       "0         32405.0  \n",
       "1         72701.0  \n",
       "2         72703.0  \n",
       "3         37215.0  \n",
       "4         20018.0  \n",
       "...           ...  \n",
       "9995          NaN  \n",
       "9996      94587.0  \n",
       "9997       2492.0  \n",
       "9998      21402.0  \n",
       "9999      94555.0  \n",
       "\n",
       "[10000 rows x 53 columns]"
      ]
     },
     "execution_count": 22,
     "metadata": {},
     "output_type": "execute_result"
    }
   ],
   "source": [
    "#checking the new data set\n",
    "data"
   ]
  },
  {
   "cell_type": "markdown",
   "id": "abc6f339",
   "metadata": {},
   "source": [
    "__Merged data consists of 10000 rows and 53 columns__"
   ]
  },
  {
   "cell_type": "markdown",
   "id": "accf3882",
   "metadata": {},
   "source": [
    "--"
   ]
  },
  {
   "cell_type": "markdown",
   "id": "5cd24dd3",
   "metadata": {},
   "source": [
    "--"
   ]
  },
  {
   "cell_type": "markdown",
   "id": "7d6344ed",
   "metadata": {},
   "source": [
    "# TASK 2:  "
   ]
  },
  {
   "cell_type": "markdown",
   "id": "4e812f5c",
   "metadata": {},
   "source": [
    "## __Finding top 3 insurance Types__"
   ]
  },
  {
   "cell_type": "code",
   "execution_count": 24,
   "id": "a0e28e84",
   "metadata": {},
   "outputs": [],
   "source": [
    "#Using GROUP BY clause by INSURANCE TYPE on the basis of their CLAIM AMOUNT .\n",
    "#later arranging them in the descending order limiting by top 3 using HEAD clause.\n",
    "\n",
    "task_2=data.groupby(\"INSURANCE_TYPE\")[\"CLAIM_AMOUNT\"].sum().sort_values(ascending=False).head(3)"
   ]
  },
  {
   "cell_type": "code",
   "execution_count": 68,
   "id": "711a633b",
   "metadata": {},
   "outputs": [
    {
     "data": {
      "image/png": "[encoded data removed]",
      "text/plain": [
       "<Figure size 432x288 with 1 Axes>"
      ]
     },
     "metadata": {
      "needs_background": "light"
     },
     "output_type": "display_data"
    }
   ],
   "source": [
    "#TOP 3 INSURANCE TYPES WITH MAXIMUM CLAIMS ARE:\n",
    "task_2.plot(kind=\"bar\", color='#00bfff')\n",
    "mat.title(\"MAJOR INSURANCE CLAIMS\");"
   ]
  },
  {
   "cell_type": "markdown",
   "id": "cc2cd7ec",
   "metadata": {},
   "source": [
    "__LIFE , PROPERTY & HEALTH are the top 3 insurance types with major claims__"
   ]
  },
  {
   "cell_type": "markdown",
   "id": "653c547e",
   "metadata": {},
   "source": [
    "--"
   ]
  },
  {
   "cell_type": "markdown",
   "id": "e6de5a58",
   "metadata": {},
   "source": [
    "--"
   ]
  },
  {
   "cell_type": "markdown",
   "id": "ca1631fc",
   "metadata": {},
   "source": [
    "# TASK 3:"
   ]
  },
  {
   "cell_type": "markdown",
   "id": "d28e9c12",
   "metadata": {},
   "source": [
    "## __Finding top 5 states getting most claims and belongs to 'high risk'segment__"
   ]
  },
  {
   "cell_type": "code",
   "execution_count": 30,
   "id": "ba7fbc14",
   "metadata": {},
   "outputs": [
    {
     "data": {
      "text/plain": [
       "Index(['TXN_DATE_TIME', 'TRANSACTION_ID', 'CUSTOMER_ID', 'POLICY_NUMBER',\n",
       "       'POLICY_EFF_DT', 'LOSS_DT', 'REPORT_DT', 'INSURANCE_TYPE',\n",
       "       'PREMIUM_AMOUNT', 'CLAIM_AMOUNT', 'CUSTOMER_NAME', 'ADDRESS_LINE1_x',\n",
       "       'ADDRESS_LINE2_x', 'CITY_x', 'STATE_x', 'POSTAL_CODE_x', 'SSN',\n",
       "       'MARITAL_STATUS', 'AGE', 'TENURE', 'EMPLOYMENT_STATUS',\n",
       "       'NO_OF_FAMILY_MEMBERS', 'RISK_SEGMENTATION', 'HOUSE_TYPE',\n",
       "       'SOCIAL_CLASS', 'ROUTING_NUMBER', 'ACCT_NUMBER',\n",
       "       'CUSTOMER_EDUCATION_LEVEL', 'CLAIM_STATUS', 'INCIDENT_SEVERITY',\n",
       "       'AUTHORITY_CONTACTED', 'ANY_INJURY', 'POLICE_REPORT_AVAILABLE',\n",
       "       'INCIDENT_STATE', 'INCIDENT_CITY', 'INCIDENT_HOUR_OF_THE_DAY',\n",
       "       'AGENT_ID', 'VENDOR_ID', 'AGENT_NAME', 'DATE_OF_JOINING',\n",
       "       'ADDRESS_LINE1_y', 'ADDRESS_LINE2_y', 'CITY_y', 'STATE_y',\n",
       "       'POSTAL_CODE_y', 'EMP_ROUTING_NUMBER', 'EMP_ACCT_NUMBER', 'VENDOR_NAME',\n",
       "       'ADDRESS_LINE1', 'ADDRESS_LINE2', 'CITY', 'STATE', 'POSTAL_CODE'],\n",
       "      dtype='object')"
      ]
     },
     "execution_count": 30,
     "metadata": {},
     "output_type": "execute_result"
    }
   ],
   "source": [
    "#checking on all the columns provided \n",
    "data.columns"
   ]
  },
  {
   "cell_type": "code",
   "execution_count": 38,
   "id": "bd56dc76",
   "metadata": {},
   "outputs": [],
   "source": [
    "#selecting the data which belongs to high risk segment for the ease of analysis\n",
    "top_5 = data[data.RISK_SEGMENTATION=='H']"
   ]
  },
  {
   "cell_type": "code",
   "execution_count": 39,
   "id": "3a7ba973",
   "metadata": {},
   "outputs": [],
   "source": [
    "#GROUPING by STATE and calculacting sum of claim amount.\n",
    "\n",
    "# task_3 consists of code which gives grouped sum of claim amount with respect to state and arranged in descending order\n",
    "\n",
    "task_3=top_5.groupby('STATE_x')['CLAIM_AMOUNT'].sum().sort_values(ascending = False).head(5)"
   ]
  },
  {
   "cell_type": "code",
   "execution_count": 65,
   "id": "a2a64435",
   "metadata": {},
   "outputs": [
    {
     "data": {
      "image/png": "[encoded data removed]",
      "text/plain": [
       "<Figure size 432x288 with 1 Axes>"
      ]
     },
     "metadata": {
      "needs_background": "light"
     },
     "output_type": "display_data"
    }
   ],
   "source": [
    "task_3.plot(kind=\"bar\", color='#76eec6');\n",
    "mat.plot(task_3, marker=\"v\", color='black')\n",
    "mat.title('STATES WITH HIGH CLAIMS');"
   ]
  },
  {
   "cell_type": "markdown",
   "id": "2a232c9a",
   "metadata": {},
   "source": [
    "__CA, AZ, AL,AR ,CO are the top 5 states which are getting great insurance claims which are in high risk segment__"
   ]
  },
  {
   "cell_type": "markdown",
   "id": "f853e748",
   "metadata": {},
   "source": [
    "--"
   ]
  },
  {
   "cell_type": "markdown",
   "id": "0e4332e0",
   "metadata": {},
   "source": [
    "--"
   ]
  },
  {
   "cell_type": "markdown",
   "id": "0a6d8056",
   "metadata": {},
   "source": [
    "# TASK 4:"
   ]
  },
  {
   "cell_type": "markdown",
   "id": "539ada1e",
   "metadata": {},
   "source": [
    "__create a new variable “COLOCATION” which will have following values__ \n",
    "\n",
    "__IF Customer State == Incident State == Agent Address State__\n",
    "\n",
    "__THEN 1 ELSE 0__\n",
    "\n",
    "__Finding the mean of this new column__\n"
   ]
  },
  {
   "cell_type": "code",
   "execution_count": 75,
   "id": "dd97511c",
   "metadata": {},
   "outputs": [],
   "source": [
    "#Creating the condition required as 'cdtn'\n",
    "cdtn=(data['STATE_x']==data['STATE_y'])&(data['STATE_y']==data['STATE'])"
   ]
  },
  {
   "cell_type": "code",
   "execution_count": 76,
   "id": "c6cb433b",
   "metadata": {},
   "outputs": [],
   "source": [
    "#adding a new row in the data set \"COLOCATION\" with 0's as the initial value \n",
    "data['COLOCATION']=0"
   ]
  },
  {
   "cell_type": "code",
   "execution_count": 77,
   "id": "0f297c96",
   "metadata": {},
   "outputs": [
    {
     "name": "stderr",
     "output_type": "stream",
     "text": [
      "C:\\Users\\HP 15-DC0084TX\\AppData\\Local\\Temp\\ipykernel_31340\\2135482416.py:2: SettingWithCopyWarning: \n",
      "A value is trying to be set on a copy of a slice from a DataFrame\n",
      "\n",
      "See the caveats in the documentation: https://pandas.pydata.org/pandas-docs/stable/user_guide/indexing.html#returning-a-view-versus-a-copy\n",
      "  data['COLOCATION'][cdtn]=1\n"
     ]
    }
   ],
   "source": [
    "#applaying the logic\n",
    "data['COLOCATION'][cdtn]=1"
   ]
  },
  {
   "cell_type": "code",
   "execution_count": 79,
   "id": "7191a30d",
   "metadata": {},
   "outputs": [
    {
     "data": {
      "text/plain": [
       "0    9965\n",
       "1      35\n",
       "Name: COLOCATION, dtype: int64"
      ]
     },
     "execution_count": 79,
     "metadata": {},
     "output_type": "execute_result"
    }
   ],
   "source": [
    "#required data\n",
    "data.COLOCATION.value_counts()"
   ]
  },
  {
   "cell_type": "markdown",
   "id": "a6db22d6",
   "metadata": {},
   "source": [
    "__There are total of 35 entries where customer state, Incident state & Agent Adress State are same__"
   ]
  },
  {
   "cell_type": "markdown",
   "id": "6f0041d0",
   "metadata": {},
   "source": [
    "--"
   ]
  },
  {
   "cell_type": "markdown",
   "id": "12e643ba",
   "metadata": {},
   "source": [
    "--"
   ]
  },
  {
   "cell_type": "markdown",
   "id": "fdd0a0a3",
   "metadata": {},
   "source": [
    "# TASK 5:"
   ]
  },
  {
   "cell_type": "markdown",
   "id": "80de7f4b",
   "metadata": {},
   "source": [
    "__Data entry errors was found if we go through AUTHORITY_CONTACTED was POLICE  but ,If we check the same in the column POLICE _REPORT_AVAILABLE was noted as '0' i.e a error__ "
   ]
  },
  {
   "cell_type": "code",
   "execution_count": 82,
   "id": "0d60a0d6",
   "metadata": {},
   "outputs": [],
   "source": [
    "## correcting the data by the column AUTHORITY_CONTACTED and re-writing in POLICE _REPORT_AVAILABLE"
   ]
  },
  {
   "cell_type": "code",
   "execution_count": 84,
   "id": "3ec27045",
   "metadata": {},
   "outputs": [],
   "source": [
    "#selecting the data where police report is not noted in the column AUTHORITY_CONTACTED.\n",
    "no_p=data[data.AUTHORITY_CONTACTED != 'Police']"
   ]
  },
  {
   "cell_type": "code",
   "execution_count": 86,
   "id": "c82e6bcf",
   "metadata": {},
   "outputs": [],
   "source": [
    "#assigning values as 1 where AUTHORITY CONTACTED is POLICE\n",
    "police=no_p[no_p[['POLICE_REPORT_AVAILABLE','AUTHORITY_CONTACTED']].POLICE_REPORT_AVAILABLE==1]"
   ]
  },
  {
   "cell_type": "code",
   "execution_count": 88,
   "id": "5d5aca11",
   "metadata": {},
   "outputs": [
    {
     "name": "stderr",
     "output_type": "stream",
     "text": [
      "C:\\Users\\HP 15-DC0084TX\\AppData\\Local\\Temp\\ipykernel_31340\\3883053422.py:2: FutureWarning: The frame.append method is deprecated and will be removed from pandas in a future version. Use pandas.concat instead.\n",
      "  police[['POLICE_REPORT_AVAILABLE','AUTHORITY_CONTACTED']].append(data)\n"
     ]
    },
    {
     "data": {
      "text/html": [
       "<div>\n",
       "<style scoped>\n",
       "    .dataframe tbody tr th:only-of-type {\n",
       "        vertical-align: middle;\n",
       "    }\n",
       "\n",
       "    .dataframe tbody tr th {\n",
       "        vertical-align: top;\n",
       "    }\n",
       "\n",
       "    .dataframe thead th {\n",
       "        text-align: right;\n",
       "    }\n",
       "</style>\n",
       "<table border=\"1\" class=\"dataframe\">\n",
       "  <thead>\n",
       "    <tr style=\"text-align: right;\">\n",
       "      <th></th>\n",
       "      <th>POLICE_REPORT_AVAILABLE</th>\n",
       "      <th>AUTHORITY_CONTACTED</th>\n",
       "      <th>TXN_DATE_TIME</th>\n",
       "      <th>TRANSACTION_ID</th>\n",
       "      <th>CUSTOMER_ID</th>\n",
       "      <th>POLICY_NUMBER</th>\n",
       "      <th>POLICY_EFF_DT</th>\n",
       "      <th>LOSS_DT</th>\n",
       "      <th>REPORT_DT</th>\n",
       "      <th>INSURANCE_TYPE</th>\n",
       "      <th>...</th>\n",
       "      <th>POSTAL_CODE_y</th>\n",
       "      <th>EMP_ROUTING_NUMBER</th>\n",
       "      <th>EMP_ACCT_NUMBER</th>\n",
       "      <th>VENDOR_NAME</th>\n",
       "      <th>ADDRESS_LINE1</th>\n",
       "      <th>ADDRESS_LINE2</th>\n",
       "      <th>CITY</th>\n",
       "      <th>STATE</th>\n",
       "      <th>POSTAL_CODE</th>\n",
       "      <th>COLOCATION</th>\n",
       "    </tr>\n",
       "  </thead>\n",
       "  <tbody>\n",
       "    <tr>\n",
       "      <th>5</th>\n",
       "      <td>1</td>\n",
       "      <td>Ambulance</td>\n",
       "      <td>NaN</td>\n",
       "      <td>NaN</td>\n",
       "      <td>NaN</td>\n",
       "      <td>NaN</td>\n",
       "      <td>NaN</td>\n",
       "      <td>NaN</td>\n",
       "      <td>NaN</td>\n",
       "      <td>NaN</td>\n",
       "      <td>...</td>\n",
       "      <td>NaN</td>\n",
       "      <td>NaN</td>\n",
       "      <td>NaN</td>\n",
       "      <td>NaN</td>\n",
       "      <td>NaN</td>\n",
       "      <td>NaN</td>\n",
       "      <td>NaN</td>\n",
       "      <td>NaN</td>\n",
       "      <td>NaN</td>\n",
       "      <td>NaN</td>\n",
       "    </tr>\n",
       "    <tr>\n",
       "      <th>10</th>\n",
       "      <td>1</td>\n",
       "      <td>Ambulance</td>\n",
       "      <td>NaN</td>\n",
       "      <td>NaN</td>\n",
       "      <td>NaN</td>\n",
       "      <td>NaN</td>\n",
       "      <td>NaN</td>\n",
       "      <td>NaN</td>\n",
       "      <td>NaN</td>\n",
       "      <td>NaN</td>\n",
       "      <td>...</td>\n",
       "      <td>NaN</td>\n",
       "      <td>NaN</td>\n",
       "      <td>NaN</td>\n",
       "      <td>NaN</td>\n",
       "      <td>NaN</td>\n",
       "      <td>NaN</td>\n",
       "      <td>NaN</td>\n",
       "      <td>NaN</td>\n",
       "      <td>NaN</td>\n",
       "      <td>NaN</td>\n",
       "    </tr>\n",
       "    <tr>\n",
       "      <th>11</th>\n",
       "      <td>1</td>\n",
       "      <td>Ambulance</td>\n",
       "      <td>NaN</td>\n",
       "      <td>NaN</td>\n",
       "      <td>NaN</td>\n",
       "      <td>NaN</td>\n",
       "      <td>NaN</td>\n",
       "      <td>NaN</td>\n",
       "      <td>NaN</td>\n",
       "      <td>NaN</td>\n",
       "      <td>...</td>\n",
       "      <td>NaN</td>\n",
       "      <td>NaN</td>\n",
       "      <td>NaN</td>\n",
       "      <td>NaN</td>\n",
       "      <td>NaN</td>\n",
       "      <td>NaN</td>\n",
       "      <td>NaN</td>\n",
       "      <td>NaN</td>\n",
       "      <td>NaN</td>\n",
       "      <td>NaN</td>\n",
       "    </tr>\n",
       "    <tr>\n",
       "      <th>12</th>\n",
       "      <td>1</td>\n",
       "      <td>None</td>\n",
       "      <td>NaN</td>\n",
       "      <td>NaN</td>\n",
       "      <td>NaN</td>\n",
       "      <td>NaN</td>\n",
       "      <td>NaN</td>\n",
       "      <td>NaN</td>\n",
       "      <td>NaN</td>\n",
       "      <td>NaN</td>\n",
       "      <td>...</td>\n",
       "      <td>NaN</td>\n",
       "      <td>NaN</td>\n",
       "      <td>NaN</td>\n",
       "      <td>NaN</td>\n",
       "      <td>NaN</td>\n",
       "      <td>NaN</td>\n",
       "      <td>NaN</td>\n",
       "      <td>NaN</td>\n",
       "      <td>NaN</td>\n",
       "      <td>NaN</td>\n",
       "    </tr>\n",
       "    <tr>\n",
       "      <th>16</th>\n",
       "      <td>1</td>\n",
       "      <td>Other</td>\n",
       "      <td>NaN</td>\n",
       "      <td>NaN</td>\n",
       "      <td>NaN</td>\n",
       "      <td>NaN</td>\n",
       "      <td>NaN</td>\n",
       "      <td>NaN</td>\n",
       "      <td>NaN</td>\n",
       "      <td>NaN</td>\n",
       "      <td>...</td>\n",
       "      <td>NaN</td>\n",
       "      <td>NaN</td>\n",
       "      <td>NaN</td>\n",
       "      <td>NaN</td>\n",
       "      <td>NaN</td>\n",
       "      <td>NaN</td>\n",
       "      <td>NaN</td>\n",
       "      <td>NaN</td>\n",
       "      <td>NaN</td>\n",
       "      <td>NaN</td>\n",
       "    </tr>\n",
       "    <tr>\n",
       "      <th>...</th>\n",
       "      <td>...</td>\n",
       "      <td>...</td>\n",
       "      <td>...</td>\n",
       "      <td>...</td>\n",
       "      <td>...</td>\n",
       "      <td>...</td>\n",
       "      <td>...</td>\n",
       "      <td>...</td>\n",
       "      <td>...</td>\n",
       "      <td>...</td>\n",
       "      <td>...</td>\n",
       "      <td>...</td>\n",
       "      <td>...</td>\n",
       "      <td>...</td>\n",
       "      <td>...</td>\n",
       "      <td>...</td>\n",
       "      <td>...</td>\n",
       "      <td>...</td>\n",
       "      <td>...</td>\n",
       "      <td>...</td>\n",
       "      <td>...</td>\n",
       "    </tr>\n",
       "    <tr>\n",
       "      <th>9995</th>\n",
       "      <td>1</td>\n",
       "      <td>Ambulance</td>\n",
       "      <td>2021-06-30 00:00:00</td>\n",
       "      <td>TXN00009996</td>\n",
       "      <td>A00006029</td>\n",
       "      <td>PLC00007245</td>\n",
       "      <td>2014-04-11</td>\n",
       "      <td>2021-06-25</td>\n",
       "      <td>2021-06-26</td>\n",
       "      <td>Motor</td>\n",
       "      <td>...</td>\n",
       "      <td>72703.0</td>\n",
       "      <td>35413882.0</td>\n",
       "      <td>LFOJ76068590051807</td>\n",
       "      <td>NaN</td>\n",
       "      <td>NaN</td>\n",
       "      <td>NaN</td>\n",
       "      <td>NaN</td>\n",
       "      <td>NaN</td>\n",
       "      <td>NaN</td>\n",
       "      <td>0.0</td>\n",
       "    </tr>\n",
       "    <tr>\n",
       "      <th>9996</th>\n",
       "      <td>0</td>\n",
       "      <td>Police</td>\n",
       "      <td>2021-06-30 00:00:00</td>\n",
       "      <td>TXN00009997</td>\n",
       "      <td>A00003555</td>\n",
       "      <td>PLC00002590</td>\n",
       "      <td>2015-08-25</td>\n",
       "      <td>2021-06-12</td>\n",
       "      <td>2021-06-17</td>\n",
       "      <td>Life</td>\n",
       "      <td>...</td>\n",
       "      <td>31405.0</td>\n",
       "      <td>91206790.0</td>\n",
       "      <td>AHEF60771774635030</td>\n",
       "      <td>Newton, Hodges and Henry</td>\n",
       "      <td>32512 Christine Drive</td>\n",
       "      <td>NaN</td>\n",
       "      <td>Union City</td>\n",
       "      <td>CA</td>\n",
       "      <td>94587.0</td>\n",
       "      <td>0.0</td>\n",
       "    </tr>\n",
       "    <tr>\n",
       "      <th>9997</th>\n",
       "      <td>1</td>\n",
       "      <td>None</td>\n",
       "      <td>2021-06-30 00:00:00</td>\n",
       "      <td>TXN00009998</td>\n",
       "      <td>A00004230</td>\n",
       "      <td>PLC00006613</td>\n",
       "      <td>2018-10-11</td>\n",
       "      <td>2021-06-18</td>\n",
       "      <td>2021-06-23</td>\n",
       "      <td>Health</td>\n",
       "      <td>...</td>\n",
       "      <td>40272.0</td>\n",
       "      <td>115241097.0</td>\n",
       "      <td>WREH18805592939657</td>\n",
       "      <td>Reese-Mckinney</td>\n",
       "      <td>20 Garfield Street</td>\n",
       "      <td>NaN</td>\n",
       "      <td>Needham</td>\n",
       "      <td>MA</td>\n",
       "      <td>2492.0</td>\n",
       "      <td>0.0</td>\n",
       "    </tr>\n",
       "    <tr>\n",
       "      <th>9998</th>\n",
       "      <td>1</td>\n",
       "      <td>Ambulance</td>\n",
       "      <td>2021-06-30 00:00:00</td>\n",
       "      <td>TXN00009999</td>\n",
       "      <td>A00006694</td>\n",
       "      <td>PLC00001781</td>\n",
       "      <td>2016-01-29</td>\n",
       "      <td>2021-06-16</td>\n",
       "      <td>2021-06-21</td>\n",
       "      <td>Motor</td>\n",
       "      <td>...</td>\n",
       "      <td>72703.0</td>\n",
       "      <td>13995380.0</td>\n",
       "      <td>AAZI21883736448048</td>\n",
       "      <td>Harmon, Manning and Bradley</td>\n",
       "      <td>1823 Dinger Road</td>\n",
       "      <td>NaN</td>\n",
       "      <td>Annapolis</td>\n",
       "      <td>MD</td>\n",
       "      <td>21402.0</td>\n",
       "      <td>0.0</td>\n",
       "    </tr>\n",
       "    <tr>\n",
       "      <th>9999</th>\n",
       "      <td>0</td>\n",
       "      <td>Ambulance</td>\n",
       "      <td>2021-06-30 00:00:00</td>\n",
       "      <td>TXN00010000</td>\n",
       "      <td>A00000390</td>\n",
       "      <td>PLC00005197</td>\n",
       "      <td>2014-09-17</td>\n",
       "      <td>2021-06-21</td>\n",
       "      <td>2021-06-24</td>\n",
       "      <td>Mobile</td>\n",
       "      <td>...</td>\n",
       "      <td>73003.0</td>\n",
       "      <td>39790996.0</td>\n",
       "      <td>RPES05613584687957</td>\n",
       "      <td>Foster-Sanchez</td>\n",
       "      <td>4255 Tanager Common</td>\n",
       "      <td>NaN</td>\n",
       "      <td>Fremont</td>\n",
       "      <td>CA</td>\n",
       "      <td>94555.0</td>\n",
       "      <td>0.0</td>\n",
       "    </tr>\n",
       "  </tbody>\n",
       "</table>\n",
       "<p>14870 rows × 54 columns</p>\n",
       "</div>"
      ],
      "text/plain": [
       "      POLICE_REPORT_AVAILABLE AUTHORITY_CONTACTED        TXN_DATE_TIME  \\\n",
       "5                           1           Ambulance                  NaN   \n",
       "10                          1           Ambulance                  NaN   \n",
       "11                          1           Ambulance                  NaN   \n",
       "12                          1                None                  NaN   \n",
       "16                          1               Other                  NaN   \n",
       "...                       ...                 ...                  ...   \n",
       "9995                        1           Ambulance  2021-06-30 00:00:00   \n",
       "9996                        0              Police  2021-06-30 00:00:00   \n",
       "9997                        1                None  2021-06-30 00:00:00   \n",
       "9998                        1           Ambulance  2021-06-30 00:00:00   \n",
       "9999                        0           Ambulance  2021-06-30 00:00:00   \n",
       "\n",
       "     TRANSACTION_ID CUSTOMER_ID POLICY_NUMBER POLICY_EFF_DT     LOSS_DT  \\\n",
       "5               NaN         NaN           NaN           NaN         NaN   \n",
       "10              NaN         NaN           NaN           NaN         NaN   \n",
       "11              NaN         NaN           NaN           NaN         NaN   \n",
       "12              NaN         NaN           NaN           NaN         NaN   \n",
       "16              NaN         NaN           NaN           NaN         NaN   \n",
       "...             ...         ...           ...           ...         ...   \n",
       "9995    TXN00009996   A00006029   PLC00007245    2014-04-11  2021-06-25   \n",
       "9996    TXN00009997   A00003555   PLC00002590    2015-08-25  2021-06-12   \n",
       "9997    TXN00009998   A00004230   PLC00006613    2018-10-11  2021-06-18   \n",
       "9998    TXN00009999   A00006694   PLC00001781    2016-01-29  2021-06-16   \n",
       "9999    TXN00010000   A00000390   PLC00005197    2014-09-17  2021-06-21   \n",
       "\n",
       "       REPORT_DT INSURANCE_TYPE  ...  POSTAL_CODE_y  EMP_ROUTING_NUMBER  \\\n",
       "5            NaN            NaN  ...            NaN                 NaN   \n",
       "10           NaN            NaN  ...            NaN                 NaN   \n",
       "11           NaN            NaN  ...            NaN                 NaN   \n",
       "12           NaN            NaN  ...            NaN                 NaN   \n",
       "16           NaN            NaN  ...            NaN                 NaN   \n",
       "...          ...            ...  ...            ...                 ...   \n",
       "9995  2021-06-26          Motor  ...        72703.0          35413882.0   \n",
       "9996  2021-06-17           Life  ...        31405.0          91206790.0   \n",
       "9997  2021-06-23         Health  ...        40272.0         115241097.0   \n",
       "9998  2021-06-21          Motor  ...        72703.0          13995380.0   \n",
       "9999  2021-06-24         Mobile  ...        73003.0          39790996.0   \n",
       "\n",
       "         EMP_ACCT_NUMBER                  VENDOR_NAME          ADDRESS_LINE1  \\\n",
       "5                    NaN                          NaN                    NaN   \n",
       "10                   NaN                          NaN                    NaN   \n",
       "11                   NaN                          NaN                    NaN   \n",
       "12                   NaN                          NaN                    NaN   \n",
       "16                   NaN                          NaN                    NaN   \n",
       "...                  ...                          ...                    ...   \n",
       "9995  LFOJ76068590051807                          NaN                    NaN   \n",
       "9996  AHEF60771774635030     Newton, Hodges and Henry  32512 Christine Drive   \n",
       "9997  WREH18805592939657               Reese-Mckinney     20 Garfield Street   \n",
       "9998  AAZI21883736448048  Harmon, Manning and Bradley       1823 Dinger Road   \n",
       "9999  RPES05613584687957               Foster-Sanchez    4255 Tanager Common   \n",
       "\n",
       "     ADDRESS_LINE2        CITY  STATE POSTAL_CODE COLOCATION  \n",
       "5              NaN         NaN    NaN         NaN        NaN  \n",
       "10             NaN         NaN    NaN         NaN        NaN  \n",
       "11             NaN         NaN    NaN         NaN        NaN  \n",
       "12             NaN         NaN    NaN         NaN        NaN  \n",
       "16             NaN         NaN    NaN         NaN        NaN  \n",
       "...            ...         ...    ...         ...        ...  \n",
       "9995           NaN         NaN    NaN         NaN        0.0  \n",
       "9996           NaN  Union City     CA     94587.0        0.0  \n",
       "9997           NaN     Needham     MA      2492.0        0.0  \n",
       "9998           NaN   Annapolis     MD     21402.0        0.0  \n",
       "9999           NaN     Fremont     CA     94555.0        0.0  \n",
       "\n",
       "[14870 rows x 54 columns]"
      ]
     },
     "execution_count": 88,
     "metadata": {},
     "output_type": "execute_result"
    }
   ],
   "source": [
    "## apending this data to original data\n",
    "police[['POLICE_REPORT_AVAILABLE','AUTHORITY_CONTACTED']].append(data)"
   ]
  },
  {
   "cell_type": "code",
   "execution_count": 89,
   "id": "cc2f55f6",
   "metadata": {},
   "outputs": [
    {
     "data": {
      "text/html": [
       "<div>\n",
       "<style scoped>\n",
       "    .dataframe tbody tr th:only-of-type {\n",
       "        vertical-align: middle;\n",
       "    }\n",
       "\n",
       "    .dataframe tbody tr th {\n",
       "        vertical-align: top;\n",
       "    }\n",
       "\n",
       "    .dataframe thead th {\n",
       "        text-align: right;\n",
       "    }\n",
       "</style>\n",
       "<table border=\"1\" class=\"dataframe\">\n",
       "  <thead>\n",
       "    <tr style=\"text-align: right;\">\n",
       "      <th></th>\n",
       "      <th>POLICE_REPORT_AVAILABLE</th>\n",
       "      <th>AUTHORITY_CONTACTED</th>\n",
       "    </tr>\n",
       "  </thead>\n",
       "  <tbody>\n",
       "    <tr>\n",
       "      <th>0</th>\n",
       "      <td>1</td>\n",
       "      <td>Police</td>\n",
       "    </tr>\n",
       "    <tr>\n",
       "      <th>1</th>\n",
       "      <td>0</td>\n",
       "      <td>Ambulance</td>\n",
       "    </tr>\n",
       "    <tr>\n",
       "      <th>2</th>\n",
       "      <td>1</td>\n",
       "      <td>Police</td>\n",
       "    </tr>\n",
       "    <tr>\n",
       "      <th>3</th>\n",
       "      <td>0</td>\n",
       "      <td>Ambulance</td>\n",
       "    </tr>\n",
       "    <tr>\n",
       "      <th>4</th>\n",
       "      <td>1</td>\n",
       "      <td>Police</td>\n",
       "    </tr>\n",
       "    <tr>\n",
       "      <th>...</th>\n",
       "      <td>...</td>\n",
       "      <td>...</td>\n",
       "    </tr>\n",
       "    <tr>\n",
       "      <th>9995</th>\n",
       "      <td>1</td>\n",
       "      <td>Ambulance</td>\n",
       "    </tr>\n",
       "    <tr>\n",
       "      <th>9996</th>\n",
       "      <td>0</td>\n",
       "      <td>Police</td>\n",
       "    </tr>\n",
       "    <tr>\n",
       "      <th>9997</th>\n",
       "      <td>1</td>\n",
       "      <td>None</td>\n",
       "    </tr>\n",
       "    <tr>\n",
       "      <th>9998</th>\n",
       "      <td>1</td>\n",
       "      <td>Ambulance</td>\n",
       "    </tr>\n",
       "    <tr>\n",
       "      <th>9999</th>\n",
       "      <td>0</td>\n",
       "      <td>Ambulance</td>\n",
       "    </tr>\n",
       "  </tbody>\n",
       "</table>\n",
       "<p>10000 rows × 2 columns</p>\n",
       "</div>"
      ],
      "text/plain": [
       "      POLICE_REPORT_AVAILABLE AUTHORITY_CONTACTED\n",
       "0                           1              Police\n",
       "1                           0           Ambulance\n",
       "2                           1              Police\n",
       "3                           0           Ambulance\n",
       "4                           1              Police\n",
       "...                       ...                 ...\n",
       "9995                        1           Ambulance\n",
       "9996                        0              Police\n",
       "9997                        1                None\n",
       "9998                        1           Ambulance\n",
       "9999                        0           Ambulance\n",
       "\n",
       "[10000 rows x 2 columns]"
      ]
     },
     "execution_count": 89,
     "metadata": {},
     "output_type": "execute_result"
    }
   ],
   "source": [
    "data[['POLICE_REPORT_AVAILABLE','AUTHORITY_CONTACTED']]"
   ]
  },
  {
   "cell_type": "code",
   "execution_count": 90,
   "id": "0fe296f3",
   "metadata": {},
   "outputs": [],
   "source": [
    "#DATA ENTRYS ERRORS ARE CORRECTED\n"
   ]
  },
  {
   "cell_type": "code",
   "execution_count": 95,
   "id": "d251aee3",
   "metadata": {},
   "outputs": [
    {
     "name": "stderr",
     "output_type": "stream",
     "text": [
      "D:\\lib\\site-packages\\seaborn\\_decorators.py:36: FutureWarning: Pass the following variable as a keyword arg: x. From version 0.12, the only valid positional argument will be `data`, and passing other arguments without an explicit keyword will result in an error or misinterpretation.\n",
      "  warnings.warn(\n"
     ]
    },
    {
     "data": {
      "image/png": "[encoded data removed]",
      "text/plain": [
       "<Figure size 432x288 with 1 Axes>"
      ]
     },
     "metadata": {
      "needs_background": "light"
     },
     "output_type": "display_data"
    }
   ],
   "source": [
    "sbn.countplot(data.AUTHORITY_CONTACTED);"
   ]
  },
  {
   "cell_type": "markdown",
   "id": "36c45115",
   "metadata": {},
   "source": [
    "__Above shown is the count of Authority contacted at the spot of th incident__"
   ]
  },
  {
   "cell_type": "markdown",
   "id": "713b062e",
   "metadata": {},
   "source": [
    "--"
   ]
  },
  {
   "cell_type": "markdown",
   "id": "44ad8131",
   "metadata": {},
   "source": [
    "--"
   ]
  },
  {
   "cell_type": "markdown",
   "id": "47fab118",
   "metadata": {},
   "source": [
    "# # TASK 6 :\n"
   ]
  },
  {
   "cell_type": "markdown",
   "id": "bdd3968a",
   "metadata": {},
   "source": [
    "__CLAIM_DEVIATION = AVG_CLAIM_AMOUNT_FOR_LAST_30DAYS (same insurance type)\n",
    "/ CURRENT_CLAIM_AMOUNT__\n",
    "\n",
    "\n",
    "__If the value < 0.5 THEN CLAIM_DEVIATION = 1 ELSE 0__"
   ]
  },
  {
   "cell_type": "markdown",
   "id": "43bf0dbb",
   "metadata": {},
   "source": [
    "## \"For type HEALTH\""
   ]
  },
  {
   "cell_type": "code",
   "execution_count": 133,
   "id": "55e573ac",
   "metadata": {},
   "outputs": [],
   "source": [
    "##subsetting the required columns for the ease of analysis\n",
    "it= data[['CLAIM_AMOUNT','TXN_DATE_TIME','INSURANCE_TYPE','TENURE']]"
   ]
  },
  {
   "cell_type": "code",
   "execution_count": 134,
   "id": "8c9e8c51",
   "metadata": {},
   "outputs": [
    {
     "data": {
      "text/html": [
       "<div>\n",
       "<style scoped>\n",
       "    .dataframe tbody tr th:only-of-type {\n",
       "        vertical-align: middle;\n",
       "    }\n",
       "\n",
       "    .dataframe tbody tr th {\n",
       "        vertical-align: top;\n",
       "    }\n",
       "\n",
       "    .dataframe thead th {\n",
       "        text-align: right;\n",
       "    }\n",
       "</style>\n",
       "<table border=\"1\" class=\"dataframe\">\n",
       "  <thead>\n",
       "    <tr style=\"text-align: right;\">\n",
       "      <th></th>\n",
       "      <th>CLAIM_AMOUNT</th>\n",
       "      <th>TXN_DATE_TIME</th>\n",
       "      <th>INSURANCE_TYPE</th>\n",
       "      <th>TENURE</th>\n",
       "    </tr>\n",
       "  </thead>\n",
       "  <tbody>\n",
       "    <tr>\n",
       "      <th>0</th>\n",
       "      <td>9000</td>\n",
       "      <td>2020-06-01 00:00:00</td>\n",
       "      <td>Health</td>\n",
       "      <td>89</td>\n",
       "    </tr>\n",
       "    <tr>\n",
       "      <th>1</th>\n",
       "      <td>26000</td>\n",
       "      <td>2020-06-01 00:00:00</td>\n",
       "      <td>Property</td>\n",
       "      <td>80</td>\n",
       "    </tr>\n",
       "    <tr>\n",
       "      <th>2</th>\n",
       "      <td>13000</td>\n",
       "      <td>2020-06-01 00:00:00</td>\n",
       "      <td>Property</td>\n",
       "      <td>68</td>\n",
       "    </tr>\n",
       "    <tr>\n",
       "      <th>3</th>\n",
       "      <td>16000</td>\n",
       "      <td>2020-06-01 00:00:00</td>\n",
       "      <td>Health</td>\n",
       "      <td>16</td>\n",
       "    </tr>\n",
       "    <tr>\n",
       "      <th>4</th>\n",
       "      <td>3000</td>\n",
       "      <td>2020-06-01 00:00:00</td>\n",
       "      <td>Travel</td>\n",
       "      <td>16</td>\n",
       "    </tr>\n",
       "    <tr>\n",
       "      <th>...</th>\n",
       "      <td>...</td>\n",
       "      <td>...</td>\n",
       "      <td>...</td>\n",
       "      <td>...</td>\n",
       "    </tr>\n",
       "    <tr>\n",
       "      <th>9995</th>\n",
       "      <td>1000</td>\n",
       "      <td>2021-06-30 00:00:00</td>\n",
       "      <td>Motor</td>\n",
       "      <td>98</td>\n",
       "    </tr>\n",
       "    <tr>\n",
       "      <th>9996</th>\n",
       "      <td>67000</td>\n",
       "      <td>2021-06-30 00:00:00</td>\n",
       "      <td>Life</td>\n",
       "      <td>92</td>\n",
       "    </tr>\n",
       "    <tr>\n",
       "      <th>9997</th>\n",
       "      <td>8000</td>\n",
       "      <td>2021-06-30 00:00:00</td>\n",
       "      <td>Health</td>\n",
       "      <td>32</td>\n",
       "    </tr>\n",
       "    <tr>\n",
       "      <th>9998</th>\n",
       "      <td>2000</td>\n",
       "      <td>2021-06-30 00:00:00</td>\n",
       "      <td>Motor</td>\n",
       "      <td>44</td>\n",
       "    </tr>\n",
       "    <tr>\n",
       "      <th>9999</th>\n",
       "      <td>300</td>\n",
       "      <td>2021-06-30 00:00:00</td>\n",
       "      <td>Mobile</td>\n",
       "      <td>106</td>\n",
       "    </tr>\n",
       "  </tbody>\n",
       "</table>\n",
       "<p>10000 rows × 4 columns</p>\n",
       "</div>"
      ],
      "text/plain": [
       "      CLAIM_AMOUNT        TXN_DATE_TIME INSURANCE_TYPE  TENURE\n",
       "0             9000  2020-06-01 00:00:00         Health      89\n",
       "1            26000  2020-06-01 00:00:00       Property      80\n",
       "2            13000  2020-06-01 00:00:00       Property      68\n",
       "3            16000  2020-06-01 00:00:00         Health      16\n",
       "4             3000  2020-06-01 00:00:00         Travel      16\n",
       "...            ...                  ...            ...     ...\n",
       "9995          1000  2021-06-30 00:00:00          Motor      98\n",
       "9996         67000  2021-06-30 00:00:00           Life      92\n",
       "9997          8000  2021-06-30 00:00:00         Health      32\n",
       "9998          2000  2021-06-30 00:00:00          Motor      44\n",
       "9999           300  2021-06-30 00:00:00         Mobile     106\n",
       "\n",
       "[10000 rows x 4 columns]"
      ]
     },
     "execution_count": 134,
     "metadata": {},
     "output_type": "execute_result"
    }
   ],
   "source": [
    "it"
   ]
  },
  {
   "cell_type": "code",
   "execution_count": 135,
   "id": "6703608d",
   "metadata": {},
   "outputs": [],
   "source": [
    "#cd-h refers to claim deviation for health type\n",
    "cd=it[(it.INSURANCE_TYPE=='Health') & (it.TENURE>30)]"
   ]
  },
  {
   "cell_type": "code",
   "execution_count": 136,
   "id": "eeec16f4",
   "metadata": {},
   "outputs": [
    {
     "data": {
      "text/plain": [
       "10784.74320241692"
      ]
     },
     "execution_count": 136,
     "metadata": {},
     "output_type": "execute_result"
    }
   ],
   "source": [
    "cd.CLAIM_AMOUNT.mean()"
   ]
  },
  {
   "cell_type": "code",
   "execution_count": 137,
   "id": "f658a9eb",
   "metadata": {},
   "outputs": [
    {
     "name": "stderr",
     "output_type": "stream",
     "text": [
      "C:\\Users\\HP 15-DC0084TX\\AppData\\Local\\Temp\\ipykernel_31340\\704018390.py:1: SettingWithCopyWarning: \n",
      "A value is trying to be set on a copy of a slice from a DataFrame.\n",
      "Try using .loc[row_indexer,col_indexer] = value instead\n",
      "\n",
      "See the caveats in the documentation: https://pandas.pydata.org/pandas-docs/stable/user_guide/indexing.html#returning-a-view-versus-a-copy\n",
      "  cd['CLAIM_DEVIATION_v'] = cd.CLAIM_AMOUNT.mean()/cd.CLAIM_AMOUNT\n"
     ]
    }
   ],
   "source": [
    "cd['CLAIM_DEVIATION_v'] = cd.CLAIM_AMOUNT.mean()/cd.CLAIM_AMOUNT"
   ]
  },
  {
   "cell_type": "code",
   "execution_count": 138,
   "id": "71e6358d",
   "metadata": {},
   "outputs": [],
   "source": [
    "#adding the data to the main data \n",
    "data['CLAIM_DEVIATION_v']=cd[['CLAIM_DEVIATION_v']]"
   ]
  },
  {
   "cell_type": "code",
   "execution_count": 139,
   "id": "6b2b7a71",
   "metadata": {},
   "outputs": [],
   "source": [
    "# now defineing the data with 1's and 0's\n",
    "# initially proving values as 1\n",
    "data['CLAIM_DEVIATION']=1"
   ]
  },
  {
   "cell_type": "code",
   "execution_count": 140,
   "id": "04dba760",
   "metadata": {},
   "outputs": [
    {
     "name": "stderr",
     "output_type": "stream",
     "text": [
      "C:\\Users\\HP 15-DC0084TX\\AppData\\Local\\Temp\\ipykernel_31340\\3681285559.py:2: SettingWithCopyWarning: \n",
      "A value is trying to be set on a copy of a slice from a DataFrame\n",
      "\n",
      "See the caveats in the documentation: https://pandas.pydata.org/pandas-docs/stable/user_guide/indexing.html#returning-a-view-versus-a-copy\n",
      "  data['CLAIM_DEVIATION'][data['CLAIM_DEVIATION_v']>0.5]=0\n"
     ]
    }
   ],
   "source": [
    "# logic assignment which assigns the value 0 when claim deviation is greater than 0.5\n",
    "data['CLAIM_DEVIATION'][data['CLAIM_DEVIATION_v']>0.5]=0"
   ]
  },
  {
   "cell_type": "code",
   "execution_count": 141,
   "id": "9f296e8e",
   "metadata": {},
   "outputs": [
    {
     "data": {
      "text/plain": [
       "1    8676\n",
       "0    1324\n",
       "Name: CLAIM_DEVIATION, dtype: int64"
      ]
     },
     "execution_count": 141,
     "metadata": {},
     "output_type": "execute_result"
    }
   ],
   "source": [
    "#checking wheather values updated or not \n",
    "data['CLAIM_DEVIATION'].value_counts()"
   ]
  },
  {
   "cell_type": "markdown",
   "id": "da45899c",
   "metadata": {},
   "source": [
    "__i.e there are 1324 values whose claim deviation is more than 0.5 in th Health insurance type__"
   ]
  },
  {
   "cell_type": "markdown",
   "id": "9aafca35",
   "metadata": {},
   "source": [
    "# For type 'Property'"
   ]
  },
  {
   "cell_type": "code",
   "execution_count": 124,
   "id": "b3a71d75",
   "metadata": {},
   "outputs": [],
   "source": [
    "## repeating the same procedure for all types"
   ]
  },
  {
   "cell_type": "code",
   "execution_count": 142,
   "id": "4cd6e83b",
   "metadata": {},
   "outputs": [],
   "source": [
    "cd_property=it[(it.INSURANCE_TYPE=='Property') & (it.TENURE>30)]"
   ]
  },
  {
   "cell_type": "code",
   "execution_count": 143,
   "id": "a588140b",
   "metadata": {},
   "outputs": [
    {
     "name": "stderr",
     "output_type": "stream",
     "text": [
      "C:\\Users\\HP 15-DC0084TX\\AppData\\Local\\Temp\\ipykernel_31340\\366985405.py:1: SettingWithCopyWarning: \n",
      "A value is trying to be set on a copy of a slice from a DataFrame.\n",
      "Try using .loc[row_indexer,col_indexer] = value instead\n",
      "\n",
      "See the caveats in the documentation: https://pandas.pydata.org/pandas-docs/stable/user_guide/indexing.html#returning-a-view-versus-a-copy\n",
      "  cd_property['CLAIM_DEVIATION_v'] = cd_property.CLAIM_AMOUNT.mean()/cd_property.CLAIM_AMOUNT\n"
     ]
    }
   ],
   "source": [
    "cd_property['CLAIM_DEVIATION_v'] = cd_property.CLAIM_AMOUNT.mean()/cd_property.CLAIM_AMOUNT"
   ]
  },
  {
   "cell_type": "code",
   "execution_count": 144,
   "id": "000a6269",
   "metadata": {},
   "outputs": [],
   "source": [
    "data['CLAIM_DEVIATION_v']=cd_property['CLAIM_DEVIATION_v']"
   ]
  },
  {
   "cell_type": "code",
   "execution_count": 145,
   "id": "0ef4a7b7",
   "metadata": {},
   "outputs": [],
   "source": [
    "N=data['CLAIM_DEVIATION_v']>0.5"
   ]
  },
  {
   "cell_type": "code",
   "execution_count": 146,
   "id": "4c1e40df",
   "metadata": {},
   "outputs": [
    {
     "name": "stderr",
     "output_type": "stream",
     "text": [
      "C:\\Users\\HP 15-DC0084TX\\AppData\\Local\\Temp\\ipykernel_31340\\1866190612.py:1: SettingWithCopyWarning: \n",
      "A value is trying to be set on a copy of a slice from a DataFrame\n",
      "\n",
      "See the caveats in the documentation: https://pandas.pydata.org/pandas-docs/stable/user_guide/indexing.html#returning-a-view-versus-a-copy\n",
      "  data['CLAIM_DEVIATION'][N]=0\n"
     ]
    }
   ],
   "source": [
    "data['CLAIM_DEVIATION'][N]=0"
   ]
  },
  {
   "cell_type": "code",
   "execution_count": 147,
   "id": "ce910c52",
   "metadata": {},
   "outputs": [
    {
     "data": {
      "text/plain": [
       "1    7339\n",
       "0    2661\n",
       "Name: CLAIM_DEVIATION, dtype: int64"
      ]
     },
     "execution_count": 147,
     "metadata": {},
     "output_type": "execute_result"
    }
   ],
   "source": [
    "data['CLAIM_DEVIATION'].value_counts()"
   ]
  },
  {
   "cell_type": "markdown",
   "id": "fe0aef5a",
   "metadata": {},
   "source": [
    "__now there are total of 2661 entries where claim deviation is more than 0.5__"
   ]
  },
  {
   "cell_type": "markdown",
   "id": "b7099697",
   "metadata": {},
   "source": [
    "# For the type 'Travel'"
   ]
  },
  {
   "cell_type": "code",
   "execution_count": 148,
   "id": "f3ddb34d",
   "metadata": {},
   "outputs": [],
   "source": [
    "cd_travel=it[(it.INSURANCE_TYPE=='Travel') & (it.TENURE>30)]"
   ]
  },
  {
   "cell_type": "code",
   "execution_count": 149,
   "id": "7e423c18",
   "metadata": {},
   "outputs": [
    {
     "data": {
      "text/html": [
       "<div>\n",
       "<style scoped>\n",
       "    .dataframe tbody tr th:only-of-type {\n",
       "        vertical-align: middle;\n",
       "    }\n",
       "\n",
       "    .dataframe tbody tr th {\n",
       "        vertical-align: top;\n",
       "    }\n",
       "\n",
       "    .dataframe thead th {\n",
       "        text-align: right;\n",
       "    }\n",
       "</style>\n",
       "<table border=\"1\" class=\"dataframe\">\n",
       "  <thead>\n",
       "    <tr style=\"text-align: right;\">\n",
       "      <th></th>\n",
       "      <th>CLAIM_AMOUNT</th>\n",
       "      <th>TXN_DATE_TIME</th>\n",
       "      <th>INSURANCE_TYPE</th>\n",
       "      <th>TENURE</th>\n",
       "    </tr>\n",
       "  </thead>\n",
       "  <tbody>\n",
       "    <tr>\n",
       "      <th>9</th>\n",
       "      <td>4000</td>\n",
       "      <td>2020-06-01 00:00:00</td>\n",
       "      <td>Travel</td>\n",
       "      <td>119</td>\n",
       "    </tr>\n",
       "    <tr>\n",
       "      <th>45</th>\n",
       "      <td>5000</td>\n",
       "      <td>2020-06-02 00:00:00</td>\n",
       "      <td>Travel</td>\n",
       "      <td>105</td>\n",
       "    </tr>\n",
       "    <tr>\n",
       "      <th>55</th>\n",
       "      <td>3000</td>\n",
       "      <td>2020-06-02 00:00:00</td>\n",
       "      <td>Travel</td>\n",
       "      <td>92</td>\n",
       "    </tr>\n",
       "    <tr>\n",
       "      <th>59</th>\n",
       "      <td>2000</td>\n",
       "      <td>2020-06-02 00:00:00</td>\n",
       "      <td>Travel</td>\n",
       "      <td>104</td>\n",
       "    </tr>\n",
       "    <tr>\n",
       "      <th>66</th>\n",
       "      <td>2000</td>\n",
       "      <td>2020-06-02 00:00:00</td>\n",
       "      <td>Travel</td>\n",
       "      <td>96</td>\n",
       "    </tr>\n",
       "    <tr>\n",
       "      <th>...</th>\n",
       "      <td>...</td>\n",
       "      <td>...</td>\n",
       "      <td>...</td>\n",
       "      <td>...</td>\n",
       "    </tr>\n",
       "    <tr>\n",
       "      <th>9946</th>\n",
       "      <td>2000</td>\n",
       "      <td>2021-06-28 00:00:00</td>\n",
       "      <td>Travel</td>\n",
       "      <td>107</td>\n",
       "    </tr>\n",
       "    <tr>\n",
       "      <th>9952</th>\n",
       "      <td>1000</td>\n",
       "      <td>2021-06-29 00:00:00</td>\n",
       "      <td>Travel</td>\n",
       "      <td>101</td>\n",
       "    </tr>\n",
       "    <tr>\n",
       "      <th>9957</th>\n",
       "      <td>4000</td>\n",
       "      <td>2021-06-29 00:00:00</td>\n",
       "      <td>Travel</td>\n",
       "      <td>84</td>\n",
       "    </tr>\n",
       "    <tr>\n",
       "      <th>9983</th>\n",
       "      <td>1000</td>\n",
       "      <td>2021-06-30 00:00:00</td>\n",
       "      <td>Travel</td>\n",
       "      <td>49</td>\n",
       "    </tr>\n",
       "    <tr>\n",
       "      <th>9991</th>\n",
       "      <td>3000</td>\n",
       "      <td>2021-06-30 00:00:00</td>\n",
       "      <td>Travel</td>\n",
       "      <td>50</td>\n",
       "    </tr>\n",
       "  </tbody>\n",
       "</table>\n",
       "<p>1327 rows × 4 columns</p>\n",
       "</div>"
      ],
      "text/plain": [
       "      CLAIM_AMOUNT        TXN_DATE_TIME INSURANCE_TYPE  TENURE\n",
       "9             4000  2020-06-01 00:00:00         Travel     119\n",
       "45            5000  2020-06-02 00:00:00         Travel     105\n",
       "55            3000  2020-06-02 00:00:00         Travel      92\n",
       "59            2000  2020-06-02 00:00:00         Travel     104\n",
       "66            2000  2020-06-02 00:00:00         Travel      96\n",
       "...            ...                  ...            ...     ...\n",
       "9946          2000  2021-06-28 00:00:00         Travel     107\n",
       "9952          1000  2021-06-29 00:00:00         Travel     101\n",
       "9957          4000  2021-06-29 00:00:00         Travel      84\n",
       "9983          1000  2021-06-30 00:00:00         Travel      49\n",
       "9991          3000  2021-06-30 00:00:00         Travel      50\n",
       "\n",
       "[1327 rows x 4 columns]"
      ]
     },
     "execution_count": 149,
     "metadata": {},
     "output_type": "execute_result"
    }
   ],
   "source": [
    "cd_travel"
   ]
  },
  {
   "cell_type": "code",
   "execution_count": 150,
   "id": "135b4439",
   "metadata": {},
   "outputs": [
    {
     "name": "stderr",
     "output_type": "stream",
     "text": [
      "C:\\Users\\HP 15-DC0084TX\\AppData\\Local\\Temp\\ipykernel_31340\\2110974145.py:1: SettingWithCopyWarning: \n",
      "A value is trying to be set on a copy of a slice from a DataFrame.\n",
      "Try using .loc[row_indexer,col_indexer] = value instead\n",
      "\n",
      "See the caveats in the documentation: https://pandas.pydata.org/pandas-docs/stable/user_guide/indexing.html#returning-a-view-versus-a-copy\n",
      "  cd_travel['CLAIM_DEVIATION_v'] = cd_travel.CLAIM_AMOUNT.mean()/cd_travel.CLAIM_AMOUNT\n"
     ]
    }
   ],
   "source": [
    "cd_travel['CLAIM_DEVIATION_v'] = cd_travel.CLAIM_AMOUNT.mean()/cd_travel.CLAIM_AMOUNT"
   ]
  },
  {
   "cell_type": "code",
   "execution_count": 151,
   "id": "d262b3bf",
   "metadata": {},
   "outputs": [],
   "source": [
    "data['CLAIM_DEVIATION_v']=cd_travel['CLAIM_DEVIATION_v']"
   ]
  },
  {
   "cell_type": "code",
   "execution_count": 152,
   "id": "ecf799dc",
   "metadata": {},
   "outputs": [],
   "source": [
    "R=data['CLAIM_DEVIATION_v']>0.5"
   ]
  },
  {
   "cell_type": "code",
   "execution_count": 153,
   "id": "783cfcba",
   "metadata": {},
   "outputs": [
    {
     "name": "stderr",
     "output_type": "stream",
     "text": [
      "C:\\Users\\HP 15-DC0084TX\\AppData\\Local\\Temp\\ipykernel_31340\\1421868262.py:1: SettingWithCopyWarning: \n",
      "A value is trying to be set on a copy of a slice from a DataFrame\n",
      "\n",
      "See the caveats in the documentation: https://pandas.pydata.org/pandas-docs/stable/user_guide/indexing.html#returning-a-view-versus-a-copy\n",
      "  data['CLAIM_DEVIATION'][R]=0\n"
     ]
    }
   ],
   "source": [
    "data['CLAIM_DEVIATION'][R]=0"
   ]
  },
  {
   "cell_type": "code",
   "execution_count": 154,
   "id": "37cd75f4",
   "metadata": {},
   "outputs": [
    {
     "data": {
      "text/plain": [
       "1    6012\n",
       "0    3988\n",
       "Name: CLAIM_DEVIATION, dtype: int64"
      ]
     },
     "execution_count": 154,
     "metadata": {},
     "output_type": "execute_result"
    }
   ],
   "source": [
    "data['CLAIM_DEVIATION'].value_counts()"
   ]
  },
  {
   "cell_type": "markdown",
   "id": "465bfbd3",
   "metadata": {},
   "source": [
    "# For the type 'Life '\n"
   ]
  },
  {
   "cell_type": "code",
   "execution_count": 155,
   "id": "9c1bc7e7",
   "metadata": {},
   "outputs": [],
   "source": [
    "cd_Life=it[(it.INSURANCE_TYPE=='Travel') & (it.TENURE>30)]"
   ]
  },
  {
   "cell_type": "code",
   "execution_count": 156,
   "id": "9b3d7ab7",
   "metadata": {},
   "outputs": [
    {
     "data": {
      "text/html": [
       "<div>\n",
       "<style scoped>\n",
       "    .dataframe tbody tr th:only-of-type {\n",
       "        vertical-align: middle;\n",
       "    }\n",
       "\n",
       "    .dataframe tbody tr th {\n",
       "        vertical-align: top;\n",
       "    }\n",
       "\n",
       "    .dataframe thead th {\n",
       "        text-align: right;\n",
       "    }\n",
       "</style>\n",
       "<table border=\"1\" class=\"dataframe\">\n",
       "  <thead>\n",
       "    <tr style=\"text-align: right;\">\n",
       "      <th></th>\n",
       "      <th>CLAIM_AMOUNT</th>\n",
       "      <th>TXN_DATE_TIME</th>\n",
       "      <th>INSURANCE_TYPE</th>\n",
       "      <th>TENURE</th>\n",
       "    </tr>\n",
       "  </thead>\n",
       "  <tbody>\n",
       "    <tr>\n",
       "      <th>9</th>\n",
       "      <td>4000</td>\n",
       "      <td>2020-06-01 00:00:00</td>\n",
       "      <td>Travel</td>\n",
       "      <td>119</td>\n",
       "    </tr>\n",
       "    <tr>\n",
       "      <th>45</th>\n",
       "      <td>5000</td>\n",
       "      <td>2020-06-02 00:00:00</td>\n",
       "      <td>Travel</td>\n",
       "      <td>105</td>\n",
       "    </tr>\n",
       "    <tr>\n",
       "      <th>55</th>\n",
       "      <td>3000</td>\n",
       "      <td>2020-06-02 00:00:00</td>\n",
       "      <td>Travel</td>\n",
       "      <td>92</td>\n",
       "    </tr>\n",
       "    <tr>\n",
       "      <th>59</th>\n",
       "      <td>2000</td>\n",
       "      <td>2020-06-02 00:00:00</td>\n",
       "      <td>Travel</td>\n",
       "      <td>104</td>\n",
       "    </tr>\n",
       "    <tr>\n",
       "      <th>66</th>\n",
       "      <td>2000</td>\n",
       "      <td>2020-06-02 00:00:00</td>\n",
       "      <td>Travel</td>\n",
       "      <td>96</td>\n",
       "    </tr>\n",
       "    <tr>\n",
       "      <th>...</th>\n",
       "      <td>...</td>\n",
       "      <td>...</td>\n",
       "      <td>...</td>\n",
       "      <td>...</td>\n",
       "    </tr>\n",
       "    <tr>\n",
       "      <th>9946</th>\n",
       "      <td>2000</td>\n",
       "      <td>2021-06-28 00:00:00</td>\n",
       "      <td>Travel</td>\n",
       "      <td>107</td>\n",
       "    </tr>\n",
       "    <tr>\n",
       "      <th>9952</th>\n",
       "      <td>1000</td>\n",
       "      <td>2021-06-29 00:00:00</td>\n",
       "      <td>Travel</td>\n",
       "      <td>101</td>\n",
       "    </tr>\n",
       "    <tr>\n",
       "      <th>9957</th>\n",
       "      <td>4000</td>\n",
       "      <td>2021-06-29 00:00:00</td>\n",
       "      <td>Travel</td>\n",
       "      <td>84</td>\n",
       "    </tr>\n",
       "    <tr>\n",
       "      <th>9983</th>\n",
       "      <td>1000</td>\n",
       "      <td>2021-06-30 00:00:00</td>\n",
       "      <td>Travel</td>\n",
       "      <td>49</td>\n",
       "    </tr>\n",
       "    <tr>\n",
       "      <th>9991</th>\n",
       "      <td>3000</td>\n",
       "      <td>2021-06-30 00:00:00</td>\n",
       "      <td>Travel</td>\n",
       "      <td>50</td>\n",
       "    </tr>\n",
       "  </tbody>\n",
       "</table>\n",
       "<p>1327 rows × 4 columns</p>\n",
       "</div>"
      ],
      "text/plain": [
       "      CLAIM_AMOUNT        TXN_DATE_TIME INSURANCE_TYPE  TENURE\n",
       "9             4000  2020-06-01 00:00:00         Travel     119\n",
       "45            5000  2020-06-02 00:00:00         Travel     105\n",
       "55            3000  2020-06-02 00:00:00         Travel      92\n",
       "59            2000  2020-06-02 00:00:00         Travel     104\n",
       "66            2000  2020-06-02 00:00:00         Travel      96\n",
       "...            ...                  ...            ...     ...\n",
       "9946          2000  2021-06-28 00:00:00         Travel     107\n",
       "9952          1000  2021-06-29 00:00:00         Travel     101\n",
       "9957          4000  2021-06-29 00:00:00         Travel      84\n",
       "9983          1000  2021-06-30 00:00:00         Travel      49\n",
       "9991          3000  2021-06-30 00:00:00         Travel      50\n",
       "\n",
       "[1327 rows x 4 columns]"
      ]
     },
     "execution_count": 156,
     "metadata": {},
     "output_type": "execute_result"
    }
   ],
   "source": [
    "cd_Life"
   ]
  },
  {
   "cell_type": "code",
   "execution_count": 157,
   "id": "b4ca81fd",
   "metadata": {},
   "outputs": [
    {
     "name": "stderr",
     "output_type": "stream",
     "text": [
      "C:\\Users\\HP 15-DC0084TX\\AppData\\Local\\Temp\\ipykernel_31340\\1663313537.py:1: SettingWithCopyWarning: \n",
      "A value is trying to be set on a copy of a slice from a DataFrame.\n",
      "Try using .loc[row_indexer,col_indexer] = value instead\n",
      "\n",
      "See the caveats in the documentation: https://pandas.pydata.org/pandas-docs/stable/user_guide/indexing.html#returning-a-view-versus-a-copy\n",
      "  cd_Life['CLAIM_DEVIATION_v'] = cd_Life.CLAIM_AMOUNT.mean()/cd_Life.CLAIM_AMOUNT\n"
     ]
    }
   ],
   "source": [
    "cd_Life['CLAIM_DEVIATION_v'] = cd_Life.CLAIM_AMOUNT.mean()/cd_Life.CLAIM_AMOUNT"
   ]
  },
  {
   "cell_type": "code",
   "execution_count": 159,
   "id": "ed21b43f",
   "metadata": {},
   "outputs": [
    {
     "data": {
      "text/plain": [
       "9       0.746797\n",
       "45      0.597438\n",
       "55      0.995730\n",
       "59      1.493595\n",
       "66      1.493595\n",
       "          ...   \n",
       "9946    1.493595\n",
       "9952    2.987189\n",
       "9957    0.746797\n",
       "9983    2.987189\n",
       "9991    0.995730\n",
       "Name: CLAIM_DEVIATION_v, Length: 1327, dtype: float64"
      ]
     },
     "execution_count": 159,
     "metadata": {},
     "output_type": "execute_result"
    }
   ],
   "source": [
    "cd_Life['CLAIM_DEVIATION_v']"
   ]
  },
  {
   "cell_type": "code",
   "execution_count": 158,
   "id": "02e6ba69",
   "metadata": {},
   "outputs": [],
   "source": [
    "data['CLAIM_DEVIATION_v']=cd_Life['CLAIM_DEVIATION_v']"
   ]
  },
  {
   "cell_type": "code",
   "execution_count": 160,
   "id": "91c85cb5",
   "metadata": {},
   "outputs": [],
   "source": [
    "LI=data['CLAIM_DEVIATION_v']>0.5"
   ]
  },
  {
   "cell_type": "code",
   "execution_count": 161,
   "id": "457437de",
   "metadata": {},
   "outputs": [
    {
     "name": "stderr",
     "output_type": "stream",
     "text": [
      "C:\\Users\\HP 15-DC0084TX\\AppData\\Local\\Temp\\ipykernel_31340\\776282843.py:1: SettingWithCopyWarning: \n",
      "A value is trying to be set on a copy of a slice from a DataFrame\n",
      "\n",
      "See the caveats in the documentation: https://pandas.pydata.org/pandas-docs/stable/user_guide/indexing.html#returning-a-view-versus-a-copy\n",
      "  data['CLAIM_DEVIATION'][LI]=0\n"
     ]
    }
   ],
   "source": [
    "data['CLAIM_DEVIATION'][LI]=0"
   ]
  },
  {
   "cell_type": "code",
   "execution_count": 162,
   "id": "d0700f51",
   "metadata": {},
   "outputs": [
    {
     "data": {
      "text/plain": [
       "1    6012\n",
       "0    3988\n",
       "Name: CLAIM_DEVIATION, dtype: int64"
      ]
     },
     "execution_count": 162,
     "metadata": {},
     "output_type": "execute_result"
    }
   ],
   "source": [
    "data['CLAIM_DEVIATION'].value_counts()"
   ]
  },
  {
   "cell_type": "markdown",
   "id": "eec37011",
   "metadata": {},
   "source": [
    "# For the type'Motor'"
   ]
  },
  {
   "cell_type": "code",
   "execution_count": 163,
   "id": "cc277da5",
   "metadata": {},
   "outputs": [],
   "source": [
    "cd_Motor=it[(it.INSURANCE_TYPE=='Motor') & (it.TENURE>30)]"
   ]
  },
  {
   "cell_type": "code",
   "execution_count": 164,
   "id": "01504344",
   "metadata": {},
   "outputs": [
    {
     "data": {
      "text/html": [
       "<div>\n",
       "<style scoped>\n",
       "    .dataframe tbody tr th:only-of-type {\n",
       "        vertical-align: middle;\n",
       "    }\n",
       "\n",
       "    .dataframe tbody tr th {\n",
       "        vertical-align: top;\n",
       "    }\n",
       "\n",
       "    .dataframe thead th {\n",
       "        text-align: right;\n",
       "    }\n",
       "</style>\n",
       "<table border=\"1\" class=\"dataframe\">\n",
       "  <thead>\n",
       "    <tr style=\"text-align: right;\">\n",
       "      <th></th>\n",
       "      <th>CLAIM_AMOUNT</th>\n",
       "      <th>TXN_DATE_TIME</th>\n",
       "      <th>INSURANCE_TYPE</th>\n",
       "      <th>TENURE</th>\n",
       "    </tr>\n",
       "  </thead>\n",
       "  <tbody>\n",
       "    <tr>\n",
       "      <th>7</th>\n",
       "      <td>8000</td>\n",
       "      <td>2020-06-01 00:00:00</td>\n",
       "      <td>Motor</td>\n",
       "      <td>97</td>\n",
       "    </tr>\n",
       "    <tr>\n",
       "      <th>8</th>\n",
       "      <td>5000</td>\n",
       "      <td>2020-06-01 00:00:00</td>\n",
       "      <td>Motor</td>\n",
       "      <td>118</td>\n",
       "    </tr>\n",
       "    <tr>\n",
       "      <th>11</th>\n",
       "      <td>8000</td>\n",
       "      <td>2020-06-01 00:00:00</td>\n",
       "      <td>Motor</td>\n",
       "      <td>39</td>\n",
       "    </tr>\n",
       "    <tr>\n",
       "      <th>15</th>\n",
       "      <td>9000</td>\n",
       "      <td>2020-06-01 00:00:00</td>\n",
       "      <td>Motor</td>\n",
       "      <td>48</td>\n",
       "    </tr>\n",
       "    <tr>\n",
       "      <th>18</th>\n",
       "      <td>8000</td>\n",
       "      <td>2020-06-01 00:00:00</td>\n",
       "      <td>Motor</td>\n",
       "      <td>69</td>\n",
       "    </tr>\n",
       "    <tr>\n",
       "      <th>...</th>\n",
       "      <td>...</td>\n",
       "      <td>...</td>\n",
       "      <td>...</td>\n",
       "      <td>...</td>\n",
       "    </tr>\n",
       "    <tr>\n",
       "      <th>9974</th>\n",
       "      <td>10000</td>\n",
       "      <td>2021-06-29 00:00:00</td>\n",
       "      <td>Motor</td>\n",
       "      <td>108</td>\n",
       "    </tr>\n",
       "    <tr>\n",
       "      <th>9975</th>\n",
       "      <td>4000</td>\n",
       "      <td>2021-06-30 00:00:00</td>\n",
       "      <td>Motor</td>\n",
       "      <td>60</td>\n",
       "    </tr>\n",
       "    <tr>\n",
       "      <th>9990</th>\n",
       "      <td>7000</td>\n",
       "      <td>2021-06-30 00:00:00</td>\n",
       "      <td>Motor</td>\n",
       "      <td>52</td>\n",
       "    </tr>\n",
       "    <tr>\n",
       "      <th>9995</th>\n",
       "      <td>1000</td>\n",
       "      <td>2021-06-30 00:00:00</td>\n",
       "      <td>Motor</td>\n",
       "      <td>98</td>\n",
       "    </tr>\n",
       "    <tr>\n",
       "      <th>9998</th>\n",
       "      <td>2000</td>\n",
       "      <td>2021-06-30 00:00:00</td>\n",
       "      <td>Motor</td>\n",
       "      <td>44</td>\n",
       "    </tr>\n",
       "  </tbody>\n",
       "</table>\n",
       "<p>1224 rows × 4 columns</p>\n",
       "</div>"
      ],
      "text/plain": [
       "      CLAIM_AMOUNT        TXN_DATE_TIME INSURANCE_TYPE  TENURE\n",
       "7             8000  2020-06-01 00:00:00          Motor      97\n",
       "8             5000  2020-06-01 00:00:00          Motor     118\n",
       "11            8000  2020-06-01 00:00:00          Motor      39\n",
       "15            9000  2020-06-01 00:00:00          Motor      48\n",
       "18            8000  2020-06-01 00:00:00          Motor      69\n",
       "...            ...                  ...            ...     ...\n",
       "9974         10000  2021-06-29 00:00:00          Motor     108\n",
       "9975          4000  2021-06-30 00:00:00          Motor      60\n",
       "9990          7000  2021-06-30 00:00:00          Motor      52\n",
       "9995          1000  2021-06-30 00:00:00          Motor      98\n",
       "9998          2000  2021-06-30 00:00:00          Motor      44\n",
       "\n",
       "[1224 rows x 4 columns]"
      ]
     },
     "execution_count": 164,
     "metadata": {},
     "output_type": "execute_result"
    }
   ],
   "source": [
    "cd_Motor"
   ]
  },
  {
   "cell_type": "code",
   "execution_count": 165,
   "id": "b545440b",
   "metadata": {},
   "outputs": [
    {
     "name": "stderr",
     "output_type": "stream",
     "text": [
      "C:\\Users\\HP 15-DC0084TX\\AppData\\Local\\Temp\\ipykernel_31340\\2706460226.py:1: SettingWithCopyWarning: \n",
      "A value is trying to be set on a copy of a slice from a DataFrame.\n",
      "Try using .loc[row_indexer,col_indexer] = value instead\n",
      "\n",
      "See the caveats in the documentation: https://pandas.pydata.org/pandas-docs/stable/user_guide/indexing.html#returning-a-view-versus-a-copy\n",
      "  cd_Motor['CLAIM_DEVIATION_v'] = cd_Motor.CLAIM_AMOUNT.mean()/cd_Motor.CLAIM_AMOUNT\n"
     ]
    }
   ],
   "source": [
    "cd_Motor['CLAIM_DEVIATION_v'] = cd_Motor.CLAIM_AMOUNT.mean()/cd_Motor.CLAIM_AMOUNT"
   ]
  },
  {
   "cell_type": "code",
   "execution_count": 166,
   "id": "a1296459",
   "metadata": {},
   "outputs": [
    {
     "data": {
      "text/plain": [
       "7       0.690462\n",
       "8       1.104739\n",
       "11      0.690462\n",
       "15      0.613744\n",
       "18      0.690462\n",
       "          ...   \n",
       "9974    0.552369\n",
       "9975    1.380923\n",
       "9990    0.789099\n",
       "9995    5.523693\n",
       "9998    2.761846\n",
       "Name: CLAIM_DEVIATION_v, Length: 1224, dtype: float64"
      ]
     },
     "execution_count": 166,
     "metadata": {},
     "output_type": "execute_result"
    }
   ],
   "source": [
    "cd_Motor['CLAIM_DEVIATION_v']"
   ]
  },
  {
   "cell_type": "code",
   "execution_count": 167,
   "id": "052be53a",
   "metadata": {},
   "outputs": [],
   "source": [
    "data['CLAIM_DEVIATION_v']=cd_Motor['CLAIM_DEVIATION_v']"
   ]
  },
  {
   "cell_type": "code",
   "execution_count": 169,
   "id": "2ae61928",
   "metadata": {},
   "outputs": [],
   "source": [
    "MO=data['CLAIM_DEVIATION_v']>0.5"
   ]
  },
  {
   "cell_type": "code",
   "execution_count": 170,
   "id": "191c4e59",
   "metadata": {},
   "outputs": [
    {
     "name": "stderr",
     "output_type": "stream",
     "text": [
      "C:\\Users\\HP 15-DC0084TX\\AppData\\Local\\Temp\\ipykernel_31340\\836006341.py:1: SettingWithCopyWarning: \n",
      "A value is trying to be set on a copy of a slice from a DataFrame\n",
      "\n",
      "See the caveats in the documentation: https://pandas.pydata.org/pandas-docs/stable/user_guide/indexing.html#returning-a-view-versus-a-copy\n",
      "  data['CLAIM_DEVIATION'][MO]=0\n"
     ]
    }
   ],
   "source": [
    "data['CLAIM_DEVIATION'][MO]=0"
   ]
  },
  {
   "cell_type": "code",
   "execution_count": 171,
   "id": "43f712d7",
   "metadata": {},
   "outputs": [
    {
     "data": {
      "text/plain": [
       "0    5212\n",
       "1    4788\n",
       "Name: CLAIM_DEVIATION, dtype: int64"
      ]
     },
     "execution_count": 171,
     "metadata": {},
     "output_type": "execute_result"
    }
   ],
   "source": [
    "data['CLAIM_DEVIATION'].value_counts()"
   ]
  },
  {
   "cell_type": "markdown",
   "id": "2eca75f9",
   "metadata": {},
   "source": [
    "# For the type 'Mobile'"
   ]
  },
  {
   "cell_type": "code",
   "execution_count": 172,
   "id": "3191c55b",
   "metadata": {},
   "outputs": [],
   "source": [
    "cd_Mobile=it[(it.INSURANCE_TYPE=='Motor') & (it.TENURE>30)]"
   ]
  },
  {
   "cell_type": "code",
   "execution_count": 173,
   "id": "3aae66a3",
   "metadata": {},
   "outputs": [
    {
     "data": {
      "text/html": [
       "<div>\n",
       "<style scoped>\n",
       "    .dataframe tbody tr th:only-of-type {\n",
       "        vertical-align: middle;\n",
       "    }\n",
       "\n",
       "    .dataframe tbody tr th {\n",
       "        vertical-align: top;\n",
       "    }\n",
       "\n",
       "    .dataframe thead th {\n",
       "        text-align: right;\n",
       "    }\n",
       "</style>\n",
       "<table border=\"1\" class=\"dataframe\">\n",
       "  <thead>\n",
       "    <tr style=\"text-align: right;\">\n",
       "      <th></th>\n",
       "      <th>CLAIM_AMOUNT</th>\n",
       "      <th>TXN_DATE_TIME</th>\n",
       "      <th>INSURANCE_TYPE</th>\n",
       "      <th>TENURE</th>\n",
       "    </tr>\n",
       "  </thead>\n",
       "  <tbody>\n",
       "    <tr>\n",
       "      <th>7</th>\n",
       "      <td>8000</td>\n",
       "      <td>2020-06-01 00:00:00</td>\n",
       "      <td>Motor</td>\n",
       "      <td>97</td>\n",
       "    </tr>\n",
       "    <tr>\n",
       "      <th>8</th>\n",
       "      <td>5000</td>\n",
       "      <td>2020-06-01 00:00:00</td>\n",
       "      <td>Motor</td>\n",
       "      <td>118</td>\n",
       "    </tr>\n",
       "    <tr>\n",
       "      <th>11</th>\n",
       "      <td>8000</td>\n",
       "      <td>2020-06-01 00:00:00</td>\n",
       "      <td>Motor</td>\n",
       "      <td>39</td>\n",
       "    </tr>\n",
       "    <tr>\n",
       "      <th>15</th>\n",
       "      <td>9000</td>\n",
       "      <td>2020-06-01 00:00:00</td>\n",
       "      <td>Motor</td>\n",
       "      <td>48</td>\n",
       "    </tr>\n",
       "    <tr>\n",
       "      <th>18</th>\n",
       "      <td>8000</td>\n",
       "      <td>2020-06-01 00:00:00</td>\n",
       "      <td>Motor</td>\n",
       "      <td>69</td>\n",
       "    </tr>\n",
       "    <tr>\n",
       "      <th>...</th>\n",
       "      <td>...</td>\n",
       "      <td>...</td>\n",
       "      <td>...</td>\n",
       "      <td>...</td>\n",
       "    </tr>\n",
       "    <tr>\n",
       "      <th>9974</th>\n",
       "      <td>10000</td>\n",
       "      <td>2021-06-29 00:00:00</td>\n",
       "      <td>Motor</td>\n",
       "      <td>108</td>\n",
       "    </tr>\n",
       "    <tr>\n",
       "      <th>9975</th>\n",
       "      <td>4000</td>\n",
       "      <td>2021-06-30 00:00:00</td>\n",
       "      <td>Motor</td>\n",
       "      <td>60</td>\n",
       "    </tr>\n",
       "    <tr>\n",
       "      <th>9990</th>\n",
       "      <td>7000</td>\n",
       "      <td>2021-06-30 00:00:00</td>\n",
       "      <td>Motor</td>\n",
       "      <td>52</td>\n",
       "    </tr>\n",
       "    <tr>\n",
       "      <th>9995</th>\n",
       "      <td>1000</td>\n",
       "      <td>2021-06-30 00:00:00</td>\n",
       "      <td>Motor</td>\n",
       "      <td>98</td>\n",
       "    </tr>\n",
       "    <tr>\n",
       "      <th>9998</th>\n",
       "      <td>2000</td>\n",
       "      <td>2021-06-30 00:00:00</td>\n",
       "      <td>Motor</td>\n",
       "      <td>44</td>\n",
       "    </tr>\n",
       "  </tbody>\n",
       "</table>\n",
       "<p>1224 rows × 4 columns</p>\n",
       "</div>"
      ],
      "text/plain": [
       "      CLAIM_AMOUNT        TXN_DATE_TIME INSURANCE_TYPE  TENURE\n",
       "7             8000  2020-06-01 00:00:00          Motor      97\n",
       "8             5000  2020-06-01 00:00:00          Motor     118\n",
       "11            8000  2020-06-01 00:00:00          Motor      39\n",
       "15            9000  2020-06-01 00:00:00          Motor      48\n",
       "18            8000  2020-06-01 00:00:00          Motor      69\n",
       "...            ...                  ...            ...     ...\n",
       "9974         10000  2021-06-29 00:00:00          Motor     108\n",
       "9975          4000  2021-06-30 00:00:00          Motor      60\n",
       "9990          7000  2021-06-30 00:00:00          Motor      52\n",
       "9995          1000  2021-06-30 00:00:00          Motor      98\n",
       "9998          2000  2021-06-30 00:00:00          Motor      44\n",
       "\n",
       "[1224 rows x 4 columns]"
      ]
     },
     "execution_count": 173,
     "metadata": {},
     "output_type": "execute_result"
    }
   ],
   "source": [
    "cd_Mobile"
   ]
  },
  {
   "cell_type": "code",
   "execution_count": 174,
   "id": "6981aa8f",
   "metadata": {},
   "outputs": [
    {
     "name": "stderr",
     "output_type": "stream",
     "text": [
      "C:\\Users\\HP 15-DC0084TX\\AppData\\Local\\Temp\\ipykernel_31340\\339330627.py:1: SettingWithCopyWarning: \n",
      "A value is trying to be set on a copy of a slice from a DataFrame.\n",
      "Try using .loc[row_indexer,col_indexer] = value instead\n",
      "\n",
      "See the caveats in the documentation: https://pandas.pydata.org/pandas-docs/stable/user_guide/indexing.html#returning-a-view-versus-a-copy\n",
      "  cd_Mobile['CLAIM_DEVIATION_v'] = cd_Mobile.CLAIM_AMOUNT.mean()/cd_Mobile.CLAIM_AMOUNT\n"
     ]
    }
   ],
   "source": [
    "cd_Mobile['CLAIM_DEVIATION_v'] = cd_Mobile.CLAIM_AMOUNT.mean()/cd_Mobile.CLAIM_AMOUNT"
   ]
  },
  {
   "cell_type": "code",
   "execution_count": 175,
   "id": "ce6b3f58",
   "metadata": {},
   "outputs": [
    {
     "data": {
      "text/plain": [
       "7       0.690462\n",
       "8       1.104739\n",
       "11      0.690462\n",
       "15      0.613744\n",
       "18      0.690462\n",
       "          ...   \n",
       "9974    0.552369\n",
       "9975    1.380923\n",
       "9990    0.789099\n",
       "9995    5.523693\n",
       "9998    2.761846\n",
       "Name: CLAIM_DEVIATION_v, Length: 1224, dtype: float64"
      ]
     },
     "execution_count": 175,
     "metadata": {},
     "output_type": "execute_result"
    }
   ],
   "source": [
    "cd_Mobile['CLAIM_DEVIATION_v']"
   ]
  },
  {
   "cell_type": "code",
   "execution_count": 176,
   "id": "a0f91fb6",
   "metadata": {},
   "outputs": [],
   "source": [
    "data['CLAIM_DEVIATION_v']=cd_Mobile['CLAIM_DEVIATION_v']"
   ]
  },
  {
   "cell_type": "code",
   "execution_count": 177,
   "id": "14e11306",
   "metadata": {},
   "outputs": [],
   "source": [
    "MOb=data['CLAIM_DEVIATION_v']>0.5"
   ]
  },
  {
   "cell_type": "code",
   "execution_count": 178,
   "id": "1428a773",
   "metadata": {},
   "outputs": [
    {
     "name": "stderr",
     "output_type": "stream",
     "text": [
      "C:\\Users\\HP 15-DC0084TX\\AppData\\Local\\Temp\\ipykernel_31340\\3250968139.py:1: SettingWithCopyWarning: \n",
      "A value is trying to be set on a copy of a slice from a DataFrame\n",
      "\n",
      "See the caveats in the documentation: https://pandas.pydata.org/pandas-docs/stable/user_guide/indexing.html#returning-a-view-versus-a-copy\n",
      "  data['CLAIM_DEVIATION'][MOb]=0\n"
     ]
    }
   ],
   "source": [
    "data['CLAIM_DEVIATION'][MOb]=0"
   ]
  },
  {
   "cell_type": "code",
   "execution_count": 179,
   "id": "c708cc15",
   "metadata": {},
   "outputs": [
    {
     "data": {
      "text/plain": [
       "0    5212\n",
       "1    4788\n",
       "Name: CLAIM_DEVIATION, dtype: int64"
      ]
     },
     "execution_count": 179,
     "metadata": {},
     "output_type": "execute_result"
    }
   ],
   "source": [
    "data['CLAIM_DEVIATION'].value_counts()"
   ]
  },
  {
   "cell_type": "markdown",
   "id": "debc104d",
   "metadata": {},
   "source": [
    "__There fore there are total of 4788 entries where claim deviation is higher than 0.5__"
   ]
  },
  {
   "cell_type": "markdown",
   "id": "3d9b05c1",
   "metadata": {},
   "source": [
    "--"
   ]
  },
  {
   "cell_type": "markdown",
   "id": "90da1a45",
   "metadata": {},
   "source": [
    "--"
   ]
  },
  {
   "cell_type": "markdown",
   "id": "93209094",
   "metadata": {},
   "source": [
    "# TASK 7"
   ]
  },
  {
   "cell_type": "markdown",
   "id": "16c32753",
   "metadata": {},
   "source": [
    "## Agents working with multiple Insurance claims"
   ]
  },
  {
   "cell_type": "code",
   "execution_count": 181,
   "id": "a278545a",
   "metadata": {},
   "outputs": [],
   "source": [
    "#Using group by clause with insurance type\n",
    "agent = data.groupby('AGENT_ID')[[ 'INSURANCE_TYPE']].count()"
   ]
  },
  {
   "cell_type": "code",
   "execution_count": 182,
   "id": "336b764d",
   "metadata": {},
   "outputs": [
    {
     "data": {
      "text/html": [
       "<div>\n",
       "<style scoped>\n",
       "    .dataframe tbody tr th:only-of-type {\n",
       "        vertical-align: middle;\n",
       "    }\n",
       "\n",
       "    .dataframe tbody tr th {\n",
       "        vertical-align: top;\n",
       "    }\n",
       "\n",
       "    .dataframe thead th {\n",
       "        text-align: right;\n",
       "    }\n",
       "</style>\n",
       "<table border=\"1\" class=\"dataframe\">\n",
       "  <thead>\n",
       "    <tr style=\"text-align: right;\">\n",
       "      <th></th>\n",
       "      <th>INSURANCE_TYPE</th>\n",
       "    </tr>\n",
       "    <tr>\n",
       "      <th>AGENT_ID</th>\n",
       "      <th></th>\n",
       "    </tr>\n",
       "  </thead>\n",
       "  <tbody>\n",
       "    <tr>\n",
       "      <th>AGENT00001</th>\n",
       "      <td>10</td>\n",
       "    </tr>\n",
       "    <tr>\n",
       "      <th>AGENT00002</th>\n",
       "      <td>3</td>\n",
       "    </tr>\n",
       "    <tr>\n",
       "      <th>AGENT00003</th>\n",
       "      <td>11</td>\n",
       "    </tr>\n",
       "    <tr>\n",
       "      <th>AGENT00004</th>\n",
       "      <td>12</td>\n",
       "    </tr>\n",
       "    <tr>\n",
       "      <th>AGENT00005</th>\n",
       "      <td>5</td>\n",
       "    </tr>\n",
       "    <tr>\n",
       "      <th>...</th>\n",
       "      <td>...</td>\n",
       "    </tr>\n",
       "    <tr>\n",
       "      <th>AGENT01196</th>\n",
       "      <td>10</td>\n",
       "    </tr>\n",
       "    <tr>\n",
       "      <th>AGENT01197</th>\n",
       "      <td>6</td>\n",
       "    </tr>\n",
       "    <tr>\n",
       "      <th>AGENT01198</th>\n",
       "      <td>7</td>\n",
       "    </tr>\n",
       "    <tr>\n",
       "      <th>AGENT01199</th>\n",
       "      <td>8</td>\n",
       "    </tr>\n",
       "    <tr>\n",
       "      <th>AGENT01200</th>\n",
       "      <td>11</td>\n",
       "    </tr>\n",
       "  </tbody>\n",
       "</table>\n",
       "<p>1200 rows × 1 columns</p>\n",
       "</div>"
      ],
      "text/plain": [
       "            INSURANCE_TYPE\n",
       "AGENT_ID                  \n",
       "AGENT00001              10\n",
       "AGENT00002               3\n",
       "AGENT00003              11\n",
       "AGENT00004              12\n",
       "AGENT00005               5\n",
       "...                    ...\n",
       "AGENT01196              10\n",
       "AGENT01197               6\n",
       "AGENT01198               7\n",
       "AGENT01199               8\n",
       "AGENT01200              11\n",
       "\n",
       "[1200 rows x 1 columns]"
      ]
     },
     "execution_count": 182,
     "metadata": {},
     "output_type": "execute_result"
    }
   ],
   "source": [
    "agent"
   ]
  },
  {
   "cell_type": "code",
   "execution_count": 184,
   "id": "c761a066",
   "metadata": {},
   "outputs": [],
   "source": [
    "# appalying condition which gives agents id who are working with more than 2 insurance types\n",
    "agents=agent[agent.INSURANCE_TYPE>2]"
   ]
  },
  {
   "cell_type": "code",
   "execution_count": 185,
   "id": "ccf21a22",
   "metadata": {},
   "outputs": [
    {
     "data": {
      "text/html": [
       "<div>\n",
       "<style scoped>\n",
       "    .dataframe tbody tr th:only-of-type {\n",
       "        vertical-align: middle;\n",
       "    }\n",
       "\n",
       "    .dataframe tbody tr th {\n",
       "        vertical-align: top;\n",
       "    }\n",
       "\n",
       "    .dataframe thead th {\n",
       "        text-align: right;\n",
       "    }\n",
       "</style>\n",
       "<table border=\"1\" class=\"dataframe\">\n",
       "  <thead>\n",
       "    <tr style=\"text-align: right;\">\n",
       "      <th></th>\n",
       "      <th>INSURANCE_TYPE</th>\n",
       "    </tr>\n",
       "    <tr>\n",
       "      <th>AGENT_ID</th>\n",
       "      <th></th>\n",
       "    </tr>\n",
       "  </thead>\n",
       "  <tbody>\n",
       "    <tr>\n",
       "      <th>AGENT00001</th>\n",
       "      <td>10</td>\n",
       "    </tr>\n",
       "    <tr>\n",
       "      <th>AGENT00002</th>\n",
       "      <td>3</td>\n",
       "    </tr>\n",
       "    <tr>\n",
       "      <th>AGENT00003</th>\n",
       "      <td>11</td>\n",
       "    </tr>\n",
       "    <tr>\n",
       "      <th>AGENT00004</th>\n",
       "      <td>12</td>\n",
       "    </tr>\n",
       "    <tr>\n",
       "      <th>AGENT00005</th>\n",
       "      <td>5</td>\n",
       "    </tr>\n",
       "    <tr>\n",
       "      <th>...</th>\n",
       "      <td>...</td>\n",
       "    </tr>\n",
       "    <tr>\n",
       "      <th>AGENT01196</th>\n",
       "      <td>10</td>\n",
       "    </tr>\n",
       "    <tr>\n",
       "      <th>AGENT01197</th>\n",
       "      <td>6</td>\n",
       "    </tr>\n",
       "    <tr>\n",
       "      <th>AGENT01198</th>\n",
       "      <td>7</td>\n",
       "    </tr>\n",
       "    <tr>\n",
       "      <th>AGENT01199</th>\n",
       "      <td>8</td>\n",
       "    </tr>\n",
       "    <tr>\n",
       "      <th>AGENT01200</th>\n",
       "      <td>11</td>\n",
       "    </tr>\n",
       "  </tbody>\n",
       "</table>\n",
       "<p>1191 rows × 1 columns</p>\n",
       "</div>"
      ],
      "text/plain": [
       "            INSURANCE_TYPE\n",
       "AGENT_ID                  \n",
       "AGENT00001              10\n",
       "AGENT00002               3\n",
       "AGENT00003              11\n",
       "AGENT00004              12\n",
       "AGENT00005               5\n",
       "...                    ...\n",
       "AGENT01196              10\n",
       "AGENT01197               6\n",
       "AGENT01198               7\n",
       "AGENT01199               8\n",
       "AGENT01200              11\n",
       "\n",
       "[1191 rows x 1 columns]"
      ]
     },
     "execution_count": 185,
     "metadata": {},
     "output_type": "execute_result"
    }
   ],
   "source": [
    "agents"
   ]
  },
  {
   "cell_type": "code",
   "execution_count": 227,
   "id": "65dfbaa1",
   "metadata": {},
   "outputs": [
    {
     "data": {
      "image/png": "[encoded data removed]",
      "text/plain": [
       "<Figure size 432x288 with 1 Axes>"
      ]
     },
     "metadata": {
      "needs_background": "light"
     },
     "output_type": "display_data"
    }
   ],
   "source": []
  },
  {
   "cell_type": "markdown",
   "id": "898413b8",
   "metadata": {},
   "source": [
    "__Above are the all the agents working with more than 2 insurance types. There are total of 1191 agents__"
   ]
  },
  {
   "cell_type": "markdown",
   "id": "88214b44",
   "metadata": {},
   "source": [
    "--"
   ]
  },
  {
   "cell_type": "markdown",
   "id": "87debc29",
   "metadata": {},
   "source": [
    "--"
   ]
  },
  {
   "cell_type": "markdown",
   "id": "3346eaf2",
   "metadata": {},
   "source": [
    "# TASK 8:"
   ]
  },
  {
   "cell_type": "markdown",
   "id": "17f7166b",
   "metadata": {},
   "source": [
    "## Finding Loyal Customers eligible for Discounts"
   ]
  },
  {
   "cell_type": "markdown",
   "id": "1d0b4455",
   "metadata": {},
   "source": [
    "__eligibility Criteria as follow__\n",
    "\n",
    "__IF CUSTOMER_TENURE > 60 AND EMPLOYMENT_STATUS = “N”\n",
    "AND NO_OF_FAMILY_MEMBERS >=4 THEN 1 ELSE 0__\n"
   ]
  },
  {
   "cell_type": "code",
   "execution_count": 186,
   "id": "b4647fc0",
   "metadata": {},
   "outputs": [],
   "source": [
    "#condition \n",
    "task_8=data[(data.TENURE>60)&(data.EMPLOYMENT_STATUS==\"N\")&(data.NO_OF_FAMILY_MEMBERS>=4)]"
   ]
  },
  {
   "cell_type": "code",
   "execution_count": 187,
   "id": "e1f7d6ce",
   "metadata": {},
   "outputs": [
    {
     "name": "stderr",
     "output_type": "stream",
     "text": [
      "C:\\Users\\HP 15-DC0084TX\\AppData\\Local\\Temp\\ipykernel_31340\\1404752326.py:2: SettingWithCopyWarning: \n",
      "A value is trying to be set on a copy of a slice from a DataFrame.\n",
      "Try using .loc[row_indexer,col_indexer] = value instead\n",
      "\n",
      "See the caveats in the documentation: https://pandas.pydata.org/pandas-docs/stable/user_guide/indexing.html#returning-a-view-versus-a-copy\n",
      "  task_8['ELIGIBLE_FOR_DISCOUNT']=1\n"
     ]
    }
   ],
   "source": [
    "#creating a new column with value 1 \n",
    "task_8['ELIGIBLE_FOR_DISCOUNT']=1"
   ]
  },
  {
   "cell_type": "code",
   "execution_count": 188,
   "id": "8d320a2b",
   "metadata": {},
   "outputs": [],
   "source": [
    "task_8_1=task_8[['CUSTOMER_NAME','ELIGIBLE_FOR_DISCOUNT']]"
   ]
  },
  {
   "cell_type": "code",
   "execution_count": 189,
   "id": "88c40ad2",
   "metadata": {},
   "outputs": [
    {
     "data": {
      "text/html": [
       "<div>\n",
       "<style scoped>\n",
       "    .dataframe tbody tr th:only-of-type {\n",
       "        vertical-align: middle;\n",
       "    }\n",
       "\n",
       "    .dataframe tbody tr th {\n",
       "        vertical-align: top;\n",
       "    }\n",
       "\n",
       "    .dataframe thead th {\n",
       "        text-align: right;\n",
       "    }\n",
       "</style>\n",
       "<table border=\"1\" class=\"dataframe\">\n",
       "  <thead>\n",
       "    <tr style=\"text-align: right;\">\n",
       "      <th></th>\n",
       "      <th>CUSTOMER_NAME</th>\n",
       "      <th>ELIGIBLE_FOR_DISCOUNT</th>\n",
       "    </tr>\n",
       "  </thead>\n",
       "  <tbody>\n",
       "    <tr>\n",
       "      <th>23</th>\n",
       "      <td>Matt Mattis</td>\n",
       "      <td>1</td>\n",
       "    </tr>\n",
       "    <tr>\n",
       "      <th>53</th>\n",
       "      <td>Donald Meehan</td>\n",
       "      <td>1</td>\n",
       "    </tr>\n",
       "    <tr>\n",
       "      <th>62</th>\n",
       "      <td>Arthur Mitchell</td>\n",
       "      <td>1</td>\n",
       "    </tr>\n",
       "    <tr>\n",
       "      <th>68</th>\n",
       "      <td>William Martin</td>\n",
       "      <td>1</td>\n",
       "    </tr>\n",
       "    <tr>\n",
       "      <th>102</th>\n",
       "      <td>William Wilson</td>\n",
       "      <td>1</td>\n",
       "    </tr>\n",
       "    <tr>\n",
       "      <th>...</th>\n",
       "      <td>...</td>\n",
       "      <td>...</td>\n",
       "    </tr>\n",
       "    <tr>\n",
       "      <th>9751</th>\n",
       "      <td>Shirley Patterson</td>\n",
       "      <td>1</td>\n",
       "    </tr>\n",
       "    <tr>\n",
       "      <th>9859</th>\n",
       "      <td>Jack Lopez</td>\n",
       "      <td>1</td>\n",
       "    </tr>\n",
       "    <tr>\n",
       "      <th>9875</th>\n",
       "      <td>Lilliam Grimm</td>\n",
       "      <td>1</td>\n",
       "    </tr>\n",
       "    <tr>\n",
       "      <th>9929</th>\n",
       "      <td>Gale Gallegos</td>\n",
       "      <td>1</td>\n",
       "    </tr>\n",
       "    <tr>\n",
       "      <th>9974</th>\n",
       "      <td>Mary Butts</td>\n",
       "      <td>1</td>\n",
       "    </tr>\n",
       "  </tbody>\n",
       "</table>\n",
       "<p>299 rows × 2 columns</p>\n",
       "</div>"
      ],
      "text/plain": [
       "          CUSTOMER_NAME  ELIGIBLE_FOR_DISCOUNT\n",
       "23          Matt Mattis                      1\n",
       "53        Donald Meehan                      1\n",
       "62      Arthur Mitchell                      1\n",
       "68       William Martin                      1\n",
       "102      William Wilson                      1\n",
       "...                 ...                    ...\n",
       "9751  Shirley Patterson                      1\n",
       "9859         Jack Lopez                      1\n",
       "9875      Lilliam Grimm                      1\n",
       "9929      Gale Gallegos                      1\n",
       "9974         Mary Butts                      1\n",
       "\n",
       "[299 rows x 2 columns]"
      ]
     },
     "execution_count": 189,
     "metadata": {},
     "output_type": "execute_result"
    }
   ],
   "source": [
    "task_8_1"
   ]
  },
  {
   "cell_type": "code",
   "execution_count": 190,
   "id": "b86b2b28",
   "metadata": {},
   "outputs": [],
   "source": [
    "#merging with full data so show that eligible and non eligible persons\n",
    "eligible=data.merge(task_8_1,how='left', on='CUSTOMER_NAME')"
   ]
  },
  {
   "cell_type": "code",
   "execution_count": 191,
   "id": "e241f8c3",
   "metadata": {},
   "outputs": [],
   "source": [
    "eligible.fillna(0,inplace=True)"
   ]
  },
  {
   "cell_type": "code",
   "execution_count": 192,
   "id": "7ba20932",
   "metadata": {},
   "outputs": [
    {
     "data": {
      "text/html": [
       "<div>\n",
       "<style scoped>\n",
       "    .dataframe tbody tr th:only-of-type {\n",
       "        vertical-align: middle;\n",
       "    }\n",
       "\n",
       "    .dataframe tbody tr th {\n",
       "        vertical-align: top;\n",
       "    }\n",
       "\n",
       "    .dataframe thead th {\n",
       "        text-align: right;\n",
       "    }\n",
       "</style>\n",
       "<table border=\"1\" class=\"dataframe\">\n",
       "  <thead>\n",
       "    <tr style=\"text-align: right;\">\n",
       "      <th></th>\n",
       "      <th>TXN_DATE_TIME</th>\n",
       "      <th>TRANSACTION_ID</th>\n",
       "      <th>CUSTOMER_ID</th>\n",
       "      <th>POLICY_NUMBER</th>\n",
       "      <th>POLICY_EFF_DT</th>\n",
       "      <th>LOSS_DT</th>\n",
       "      <th>REPORT_DT</th>\n",
       "      <th>INSURANCE_TYPE</th>\n",
       "      <th>PREMIUM_AMOUNT</th>\n",
       "      <th>CLAIM_AMOUNT</th>\n",
       "      <th>...</th>\n",
       "      <th>VENDOR_NAME</th>\n",
       "      <th>ADDRESS_LINE1</th>\n",
       "      <th>ADDRESS_LINE2</th>\n",
       "      <th>CITY</th>\n",
       "      <th>STATE</th>\n",
       "      <th>POSTAL_CODE</th>\n",
       "      <th>COLOCATION</th>\n",
       "      <th>CLAIM_DEVIATION_v</th>\n",
       "      <th>CLAIM_DEVIATION</th>\n",
       "      <th>ELIGIBLE_FOR_DISCOUNT</th>\n",
       "    </tr>\n",
       "  </thead>\n",
       "  <tbody>\n",
       "    <tr>\n",
       "      <th>0</th>\n",
       "      <td>2020-06-01 00:00:00</td>\n",
       "      <td>TXN00000001</td>\n",
       "      <td>A00003822</td>\n",
       "      <td>PLC00008468</td>\n",
       "      <td>2015-06-23</td>\n",
       "      <td>2020-05-16</td>\n",
       "      <td>2020-05-21</td>\n",
       "      <td>Health</td>\n",
       "      <td>157.13</td>\n",
       "      <td>9000</td>\n",
       "      <td>...</td>\n",
       "      <td>Ramsey Inc</td>\n",
       "      <td>3114 West 20th Court</td>\n",
       "      <td>0</td>\n",
       "      <td>Panama City</td>\n",
       "      <td>FL</td>\n",
       "      <td>32405.0</td>\n",
       "      <td>0</td>\n",
       "      <td>0.000000</td>\n",
       "      <td>0</td>\n",
       "      <td>0.0</td>\n",
       "    </tr>\n",
       "    <tr>\n",
       "      <th>1</th>\n",
       "      <td>2020-06-01 00:00:00</td>\n",
       "      <td>TXN00000002</td>\n",
       "      <td>A00008149</td>\n",
       "      <td>PLC00009594</td>\n",
       "      <td>2018-04-21</td>\n",
       "      <td>2020-05-13</td>\n",
       "      <td>2020-05-18</td>\n",
       "      <td>Property</td>\n",
       "      <td>141.71</td>\n",
       "      <td>26000</td>\n",
       "      <td>...</td>\n",
       "      <td>Morales, Campbell and Washington</td>\n",
       "      <td>42 West Louise Street</td>\n",
       "      <td>B</td>\n",
       "      <td>Fayetteville</td>\n",
       "      <td>AR</td>\n",
       "      <td>72701.0</td>\n",
       "      <td>0</td>\n",
       "      <td>0.000000</td>\n",
       "      <td>0</td>\n",
       "      <td>0.0</td>\n",
       "    </tr>\n",
       "    <tr>\n",
       "      <th>2</th>\n",
       "      <td>2020-06-01 00:00:00</td>\n",
       "      <td>TXN00000003</td>\n",
       "      <td>A00003172</td>\n",
       "      <td>PLC00007969</td>\n",
       "      <td>2019-10-03</td>\n",
       "      <td>2020-05-21</td>\n",
       "      <td>2020-05-26</td>\n",
       "      <td>Property</td>\n",
       "      <td>157.24</td>\n",
       "      <td>13000</td>\n",
       "      <td>...</td>\n",
       "      <td>Johnson Ltd</td>\n",
       "      <td>2619 North Quality Lane</td>\n",
       "      <td>#315</td>\n",
       "      <td>Fayetteville</td>\n",
       "      <td>AR</td>\n",
       "      <td>72703.0</td>\n",
       "      <td>0</td>\n",
       "      <td>0.000000</td>\n",
       "      <td>0</td>\n",
       "      <td>0.0</td>\n",
       "    </tr>\n",
       "    <tr>\n",
       "      <th>3</th>\n",
       "      <td>2020-06-01 00:00:00</td>\n",
       "      <td>TXN00000004</td>\n",
       "      <td>A00007572</td>\n",
       "      <td>PLC00009292</td>\n",
       "      <td>2016-11-29</td>\n",
       "      <td>2020-05-14</td>\n",
       "      <td>2020-05-19</td>\n",
       "      <td>Health</td>\n",
       "      <td>172.87</td>\n",
       "      <td>16000</td>\n",
       "      <td>...</td>\n",
       "      <td>Blackwell-Foster</td>\n",
       "      <td>3609 Meadow Drive</td>\n",
       "      <td>0</td>\n",
       "      <td>Nashville</td>\n",
       "      <td>TN</td>\n",
       "      <td>37215.0</td>\n",
       "      <td>0</td>\n",
       "      <td>0.000000</td>\n",
       "      <td>1</td>\n",
       "      <td>0.0</td>\n",
       "    </tr>\n",
       "    <tr>\n",
       "      <th>4</th>\n",
       "      <td>2020-06-01 00:00:00</td>\n",
       "      <td>TXN00000005</td>\n",
       "      <td>A00008173</td>\n",
       "      <td>PLC00000204</td>\n",
       "      <td>2011-12-26</td>\n",
       "      <td>2020-05-17</td>\n",
       "      <td>2020-05-22</td>\n",
       "      <td>Travel</td>\n",
       "      <td>88.53</td>\n",
       "      <td>3000</td>\n",
       "      <td>...</td>\n",
       "      <td>Evans-Scott</td>\n",
       "      <td>4001 19th Place Northeast</td>\n",
       "      <td>0</td>\n",
       "      <td>Washington</td>\n",
       "      <td>DC</td>\n",
       "      <td>20018.0</td>\n",
       "      <td>0</td>\n",
       "      <td>0.000000</td>\n",
       "      <td>1</td>\n",
       "      <td>0.0</td>\n",
       "    </tr>\n",
       "    <tr>\n",
       "      <th>...</th>\n",
       "      <td>...</td>\n",
       "      <td>...</td>\n",
       "      <td>...</td>\n",
       "      <td>...</td>\n",
       "      <td>...</td>\n",
       "      <td>...</td>\n",
       "      <td>...</td>\n",
       "      <td>...</td>\n",
       "      <td>...</td>\n",
       "      <td>...</td>\n",
       "      <td>...</td>\n",
       "      <td>...</td>\n",
       "      <td>...</td>\n",
       "      <td>...</td>\n",
       "      <td>...</td>\n",
       "      <td>...</td>\n",
       "      <td>...</td>\n",
       "      <td>...</td>\n",
       "      <td>...</td>\n",
       "      <td>...</td>\n",
       "      <td>...</td>\n",
       "    </tr>\n",
       "    <tr>\n",
       "      <th>9995</th>\n",
       "      <td>2021-06-30 00:00:00</td>\n",
       "      <td>TXN00009996</td>\n",
       "      <td>A00006029</td>\n",
       "      <td>PLC00007245</td>\n",
       "      <td>2014-04-11</td>\n",
       "      <td>2021-06-25</td>\n",
       "      <td>2021-06-26</td>\n",
       "      <td>Motor</td>\n",
       "      <td>105.75</td>\n",
       "      <td>1000</td>\n",
       "      <td>...</td>\n",
       "      <td>0</td>\n",
       "      <td>0</td>\n",
       "      <td>0</td>\n",
       "      <td>0</td>\n",
       "      <td>0</td>\n",
       "      <td>0.0</td>\n",
       "      <td>0</td>\n",
       "      <td>5.523693</td>\n",
       "      <td>0</td>\n",
       "      <td>0.0</td>\n",
       "    </tr>\n",
       "    <tr>\n",
       "      <th>9996</th>\n",
       "      <td>2021-06-30 00:00:00</td>\n",
       "      <td>TXN00009997</td>\n",
       "      <td>A00003555</td>\n",
       "      <td>PLC00002590</td>\n",
       "      <td>2015-08-25</td>\n",
       "      <td>2021-06-12</td>\n",
       "      <td>2021-06-17</td>\n",
       "      <td>Life</td>\n",
       "      <td>64.59</td>\n",
       "      <td>67000</td>\n",
       "      <td>...</td>\n",
       "      <td>Newton, Hodges and Henry</td>\n",
       "      <td>32512 Christine Drive</td>\n",
       "      <td>0</td>\n",
       "      <td>Union City</td>\n",
       "      <td>CA</td>\n",
       "      <td>94587.0</td>\n",
       "      <td>0</td>\n",
       "      <td>0.000000</td>\n",
       "      <td>1</td>\n",
       "      <td>0.0</td>\n",
       "    </tr>\n",
       "    <tr>\n",
       "      <th>9997</th>\n",
       "      <td>2021-06-30 00:00:00</td>\n",
       "      <td>TXN00009998</td>\n",
       "      <td>A00004230</td>\n",
       "      <td>PLC00006613</td>\n",
       "      <td>2018-10-11</td>\n",
       "      <td>2021-06-18</td>\n",
       "      <td>2021-06-23</td>\n",
       "      <td>Health</td>\n",
       "      <td>183.50</td>\n",
       "      <td>8000</td>\n",
       "      <td>...</td>\n",
       "      <td>Reese-Mckinney</td>\n",
       "      <td>20 Garfield Street</td>\n",
       "      <td>0</td>\n",
       "      <td>Needham</td>\n",
       "      <td>MA</td>\n",
       "      <td>2492.0</td>\n",
       "      <td>0</td>\n",
       "      <td>0.000000</td>\n",
       "      <td>0</td>\n",
       "      <td>0.0</td>\n",
       "    </tr>\n",
       "    <tr>\n",
       "      <th>9998</th>\n",
       "      <td>2021-06-30 00:00:00</td>\n",
       "      <td>TXN00009999</td>\n",
       "      <td>A00006694</td>\n",
       "      <td>PLC00001781</td>\n",
       "      <td>2016-01-29</td>\n",
       "      <td>2021-06-16</td>\n",
       "      <td>2021-06-21</td>\n",
       "      <td>Motor</td>\n",
       "      <td>113.46</td>\n",
       "      <td>2000</td>\n",
       "      <td>...</td>\n",
       "      <td>Harmon, Manning and Bradley</td>\n",
       "      <td>1823 Dinger Road</td>\n",
       "      <td>0</td>\n",
       "      <td>Annapolis</td>\n",
       "      <td>MD</td>\n",
       "      <td>21402.0</td>\n",
       "      <td>0</td>\n",
       "      <td>2.761846</td>\n",
       "      <td>0</td>\n",
       "      <td>0.0</td>\n",
       "    </tr>\n",
       "    <tr>\n",
       "      <th>9999</th>\n",
       "      <td>2021-06-30 00:00:00</td>\n",
       "      <td>TXN00010000</td>\n",
       "      <td>A00000390</td>\n",
       "      <td>PLC00005197</td>\n",
       "      <td>2014-09-17</td>\n",
       "      <td>2021-06-21</td>\n",
       "      <td>2021-06-24</td>\n",
       "      <td>Mobile</td>\n",
       "      <td>8.22</td>\n",
       "      <td>300</td>\n",
       "      <td>...</td>\n",
       "      <td>Foster-Sanchez</td>\n",
       "      <td>4255 Tanager Common</td>\n",
       "      <td>0</td>\n",
       "      <td>Fremont</td>\n",
       "      <td>CA</td>\n",
       "      <td>94555.0</td>\n",
       "      <td>0</td>\n",
       "      <td>0.000000</td>\n",
       "      <td>1</td>\n",
       "      <td>0.0</td>\n",
       "    </tr>\n",
       "  </tbody>\n",
       "</table>\n",
       "<p>10000 rows × 57 columns</p>\n",
       "</div>"
      ],
      "text/plain": [
       "            TXN_DATE_TIME TRANSACTION_ID CUSTOMER_ID POLICY_NUMBER  \\\n",
       "0     2020-06-01 00:00:00    TXN00000001   A00003822   PLC00008468   \n",
       "1     2020-06-01 00:00:00    TXN00000002   A00008149   PLC00009594   \n",
       "2     2020-06-01 00:00:00    TXN00000003   A00003172   PLC00007969   \n",
       "3     2020-06-01 00:00:00    TXN00000004   A00007572   PLC00009292   \n",
       "4     2020-06-01 00:00:00    TXN00000005   A00008173   PLC00000204   \n",
       "...                   ...            ...         ...           ...   \n",
       "9995  2021-06-30 00:00:00    TXN00009996   A00006029   PLC00007245   \n",
       "9996  2021-06-30 00:00:00    TXN00009997   A00003555   PLC00002590   \n",
       "9997  2021-06-30 00:00:00    TXN00009998   A00004230   PLC00006613   \n",
       "9998  2021-06-30 00:00:00    TXN00009999   A00006694   PLC00001781   \n",
       "9999  2021-06-30 00:00:00    TXN00010000   A00000390   PLC00005197   \n",
       "\n",
       "     POLICY_EFF_DT     LOSS_DT   REPORT_DT INSURANCE_TYPE  PREMIUM_AMOUNT  \\\n",
       "0       2015-06-23  2020-05-16  2020-05-21         Health          157.13   \n",
       "1       2018-04-21  2020-05-13  2020-05-18       Property          141.71   \n",
       "2       2019-10-03  2020-05-21  2020-05-26       Property          157.24   \n",
       "3       2016-11-29  2020-05-14  2020-05-19         Health          172.87   \n",
       "4       2011-12-26  2020-05-17  2020-05-22         Travel           88.53   \n",
       "...            ...         ...         ...            ...             ...   \n",
       "9995    2014-04-11  2021-06-25  2021-06-26          Motor          105.75   \n",
       "9996    2015-08-25  2021-06-12  2021-06-17           Life           64.59   \n",
       "9997    2018-10-11  2021-06-18  2021-06-23         Health          183.50   \n",
       "9998    2016-01-29  2021-06-16  2021-06-21          Motor          113.46   \n",
       "9999    2014-09-17  2021-06-21  2021-06-24         Mobile            8.22   \n",
       "\n",
       "      CLAIM_AMOUNT  ...                       VENDOR_NAME  \\\n",
       "0             9000  ...                        Ramsey Inc   \n",
       "1            26000  ...  Morales, Campbell and Washington   \n",
       "2            13000  ...                       Johnson Ltd   \n",
       "3            16000  ...                  Blackwell-Foster   \n",
       "4             3000  ...                       Evans-Scott   \n",
       "...            ...  ...                               ...   \n",
       "9995          1000  ...                                 0   \n",
       "9996         67000  ...          Newton, Hodges and Henry   \n",
       "9997          8000  ...                    Reese-Mckinney   \n",
       "9998          2000  ...       Harmon, Manning and Bradley   \n",
       "9999           300  ...                    Foster-Sanchez   \n",
       "\n",
       "                  ADDRESS_LINE1 ADDRESS_LINE2          CITY STATE  \\\n",
       "0          3114 West 20th Court             0   Panama City    FL   \n",
       "1         42 West Louise Street             B  Fayetteville    AR   \n",
       "2       2619 North Quality Lane          #315  Fayetteville    AR   \n",
       "3             3609 Meadow Drive             0     Nashville    TN   \n",
       "4     4001 19th Place Northeast             0    Washington    DC   \n",
       "...                         ...           ...           ...   ...   \n",
       "9995                          0             0             0     0   \n",
       "9996      32512 Christine Drive             0    Union City    CA   \n",
       "9997         20 Garfield Street             0       Needham    MA   \n",
       "9998           1823 Dinger Road             0     Annapolis    MD   \n",
       "9999        4255 Tanager Common             0       Fremont    CA   \n",
       "\n",
       "      POSTAL_CODE COLOCATION CLAIM_DEVIATION_v  CLAIM_DEVIATION  \\\n",
       "0         32405.0          0          0.000000                0   \n",
       "1         72701.0          0          0.000000                0   \n",
       "2         72703.0          0          0.000000                0   \n",
       "3         37215.0          0          0.000000                1   \n",
       "4         20018.0          0          0.000000                1   \n",
       "...           ...        ...               ...              ...   \n",
       "9995          0.0          0          5.523693                0   \n",
       "9996      94587.0          0          0.000000                1   \n",
       "9997       2492.0          0          0.000000                0   \n",
       "9998      21402.0          0          2.761846                0   \n",
       "9999      94555.0          0          0.000000                1   \n",
       "\n",
       "      ELIGIBLE_FOR_DISCOUNT  \n",
       "0                       0.0  \n",
       "1                       0.0  \n",
       "2                       0.0  \n",
       "3                       0.0  \n",
       "4                       0.0  \n",
       "...                     ...  \n",
       "9995                    0.0  \n",
       "9996                    0.0  \n",
       "9997                    0.0  \n",
       "9998                    0.0  \n",
       "9999                    0.0  \n",
       "\n",
       "[10000 rows x 57 columns]"
      ]
     },
     "execution_count": 192,
     "metadata": {},
     "output_type": "execute_result"
    }
   ],
   "source": [
    "eligible"
   ]
  },
  {
   "cell_type": "code",
   "execution_count": 216,
   "id": "2a0e8809",
   "metadata": {},
   "outputs": [
    {
     "data": {
      "text/plain": [
       "0.0    9688\n",
       "1.0     312\n",
       "Name: ELIGIBLE_FOR_DISCOUNT, dtype: int64"
      ]
     },
     "execution_count": 216,
     "metadata": {},
     "output_type": "execute_result"
    }
   ],
   "source": [
    "eligible.ELIGIBLE_FOR_DISCOUNT.value_counts()"
   ]
  },
  {
   "cell_type": "markdown",
   "id": "ca9533b6",
   "metadata": {},
   "source": [
    "__\"There are 312 agents who are eligible for discount\"__"
   ]
  },
  {
   "cell_type": "markdown",
   "id": "1cdd84fb",
   "metadata": {},
   "source": [
    "--"
   ]
  },
  {
   "cell_type": "code",
   "execution_count": null,
   "id": "2ac8b8c8",
   "metadata": {},
   "outputs": [],
   "source": []
  },
  {
   "cell_type": "markdown",
   "id": "9ba5a57a",
   "metadata": {},
   "source": [
    "--"
   ]
  },
  {
   "cell_type": "markdown",
   "id": "d6509e2b",
   "metadata": {},
   "source": [
    "# TASK 9:"
   ]
  },
  {
   "cell_type": "markdown",
   "id": "7c134f7b",
   "metadata": {},
   "source": [
    "## CLAIM_VELOCITY = NO_OF_CLAIMS_IN_LAST30DAYS / NO_OF_CLAIMS_IN_LAST3DAYS"
   ]
  },
  {
   "cell_type": "code",
   "execution_count": 193,
   "id": "a8ea42e4",
   "metadata": {},
   "outputs": [],
   "source": [
    "# converting the data type object to datetime series \n",
    "data['TXN_DATE_TIME'] = pd.to_datetime(data.TXN_DATE_TIME)\n",
    "data['day']= pd.DatetimeIndex(data.TXN_DATE_TIME).day\n",
    "data['year']= pd.DatetimeIndex(data.TXN_DATE_TIME).year\n",
    "data['month']= pd.DatetimeIndex(data.TXN_DATE_TIME).month"
   ]
  },
  {
   "cell_type": "code",
   "execution_count": 194,
   "id": "3fee9445",
   "metadata": {},
   "outputs": [],
   "source": [
    "#last 30 days does not involve current day so excluding the last day assuming that as the curret day\n",
    "task_9=data[(data.year==2021)&(data.month==6)&(data.day!=30)]"
   ]
  },
  {
   "cell_type": "code",
   "execution_count": 195,
   "id": "4b9a0fb1",
   "metadata": {},
   "outputs": [
    {
     "data": {
      "text/plain": [
       "A    722\n",
       "D     37\n",
       "Name: CLAIM_STATUS, dtype: int64"
      ]
     },
     "execution_count": 195,
     "metadata": {},
     "output_type": "execute_result"
    }
   ],
   "source": [
    "task_9.CLAIM_STATUS.value_counts()"
   ]
  },
  {
   "cell_type": "code",
   "execution_count": 196,
   "id": "d2a612ea",
   "metadata": {},
   "outputs": [],
   "source": [
    "#last 3 days also does not involve current so excluding tha last day i.e 30th and including the last 3 days i.e 27,28,29\n",
    "task_9_1=data[(data.year==2021)&(data.month==6)&(data.day.isin([29,28,27]))]"
   ]
  },
  {
   "cell_type": "code",
   "execution_count": 197,
   "id": "e6696e3a",
   "metadata": {},
   "outputs": [
    {
     "data": {
      "text/plain": [
       "A    73\n",
       "D     5\n",
       "Name: CLAIM_STATUS, dtype: int64"
      ]
     },
     "execution_count": 197,
     "metadata": {},
     "output_type": "execute_result"
    }
   ],
   "source": [
    "task_9_1.CLAIM_STATUS.value_counts()"
   ]
  },
  {
   "cell_type": "code",
   "execution_count": 198,
   "id": "605e038e",
   "metadata": {},
   "outputs": [],
   "source": [
    "CLAIM_VELOCITY = 722/73"
   ]
  },
  {
   "cell_type": "code",
   "execution_count": 199,
   "id": "260640ff",
   "metadata": {},
   "outputs": [
    {
     "data": {
      "text/plain": [
       "9.89041095890411"
      ]
     },
     "execution_count": 199,
     "metadata": {},
     "output_type": "execute_result"
    }
   ],
   "source": [
    "CLAIM_VELOCITY"
   ]
  },
  {
   "cell_type": "markdown",
   "id": "46e768f0",
   "metadata": {},
   "source": [
    "__There fore the CLAIM VELOCITY IS '9.89041095890411'__"
   ]
  },
  {
   "cell_type": "markdown",
   "id": "d3063353",
   "metadata": {},
   "source": [
    "--"
   ]
  },
  {
   "cell_type": "markdown",
   "id": "2739058c",
   "metadata": {},
   "source": [
    "--"
   ]
  },
  {
   "cell_type": "markdown",
   "id": "220af813",
   "metadata": {},
   "source": [
    "# TASK 10:"
   ]
  },
  {
   "cell_type": "markdown",
   "id": "751ab267",
   "metadata": {},
   "source": [
    "__IF TOTAL CLAIM AMOUNT which meet below criteria is >= 15000 THEN AGENT is classified\n",
    "as Suspicious ELSE NoT__\n",
    "__If Suspicious, then 1 ELSE 0.__"
   ]
  },
  {
   "cell_type": "code",
   "execution_count": 200,
   "id": "a54f0b7b",
   "metadata": {},
   "outputs": [
    {
     "data": {
      "text/html": [
       "<div>\n",
       "<style scoped>\n",
       "    .dataframe tbody tr th:only-of-type {\n",
       "        vertical-align: middle;\n",
       "    }\n",
       "\n",
       "    .dataframe tbody tr th {\n",
       "        vertical-align: top;\n",
       "    }\n",
       "\n",
       "    .dataframe thead th {\n",
       "        text-align: right;\n",
       "    }\n",
       "</style>\n",
       "<table border=\"1\" class=\"dataframe\">\n",
       "  <thead>\n",
       "    <tr style=\"text-align: right;\">\n",
       "      <th></th>\n",
       "      <th>CLAIM_AMOUNT</th>\n",
       "    </tr>\n",
       "    <tr>\n",
       "      <th>AGENT_NAME</th>\n",
       "      <th></th>\n",
       "    </tr>\n",
       "  </thead>\n",
       "  <tbody>\n",
       "    <tr>\n",
       "      <th>Don Filkins</th>\n",
       "      <td>528800</td>\n",
       "    </tr>\n",
       "    <tr>\n",
       "      <th>Clara Barnett</th>\n",
       "      <td>489000</td>\n",
       "    </tr>\n",
       "    <tr>\n",
       "      <th>Roger Burns</th>\n",
       "      <td>422100</td>\n",
       "    </tr>\n",
       "    <tr>\n",
       "      <th>Robert Ward</th>\n",
       "      <td>417100</td>\n",
       "    </tr>\n",
       "    <tr>\n",
       "      <th>Salvador Soriano</th>\n",
       "      <td>400400</td>\n",
       "    </tr>\n",
       "    <tr>\n",
       "      <th>...</th>\n",
       "      <td>...</td>\n",
       "    </tr>\n",
       "    <tr>\n",
       "      <th>Mary Franklin</th>\n",
       "      <td>5600</td>\n",
       "    </tr>\n",
       "    <tr>\n",
       "      <th>Thelma Salinas</th>\n",
       "      <td>5500</td>\n",
       "    </tr>\n",
       "    <tr>\n",
       "      <th>Richard Murphy</th>\n",
       "      <td>5300</td>\n",
       "    </tr>\n",
       "    <tr>\n",
       "      <th>Sandra Tucker</th>\n",
       "      <td>4200</td>\n",
       "    </tr>\n",
       "    <tr>\n",
       "      <th>Nichole Wright</th>\n",
       "      <td>800</td>\n",
       "    </tr>\n",
       "  </tbody>\n",
       "</table>\n",
       "<p>1198 rows × 1 columns</p>\n",
       "</div>"
      ],
      "text/plain": [
       "                  CLAIM_AMOUNT\n",
       "AGENT_NAME                    \n",
       "Don Filkins             528800\n",
       "Clara Barnett           489000\n",
       "Roger Burns             422100\n",
       "Robert Ward             417100\n",
       "Salvador Soriano        400400\n",
       "...                        ...\n",
       "Mary Franklin             5600\n",
       "Thelma Salinas            5500\n",
       "Richard Murphy            5300\n",
       "Sandra Tucker             4200\n",
       "Nichole Wright             800\n",
       "\n",
       "[1198 rows x 1 columns]"
      ]
     },
     "execution_count": 200,
     "metadata": {},
     "output_type": "execute_result"
    }
   ],
   "source": [
    "# arranging agents on basis of their claim amount\n",
    "data.groupby('AGENT_NAME')[['CLAIM_AMOUNT']].sum().sort_values('CLAIM_AMOUNT',ascending=False)"
   ]
  },
  {
   "cell_type": "code",
   "execution_count": 202,
   "id": "fc1f20ea",
   "metadata": {},
   "outputs": [],
   "source": [
    "#grouping by claim amount then arrangening in ascending order\n",
    "sus=data.groupby('AGENT_NAME')[['CLAIM_AMOUNT']].sum().sort_values('CLAIM_AMOUNT',ascending=True)"
   ]
  },
  {
   "cell_type": "code",
   "execution_count": 203,
   "id": "539217df",
   "metadata": {},
   "outputs": [
    {
     "data": {
      "text/html": [
       "<div>\n",
       "<style scoped>\n",
       "    .dataframe tbody tr th:only-of-type {\n",
       "        vertical-align: middle;\n",
       "    }\n",
       "\n",
       "    .dataframe tbody tr th {\n",
       "        vertical-align: top;\n",
       "    }\n",
       "\n",
       "    .dataframe thead th {\n",
       "        text-align: right;\n",
       "    }\n",
       "</style>\n",
       "<table border=\"1\" class=\"dataframe\">\n",
       "  <thead>\n",
       "    <tr style=\"text-align: right;\">\n",
       "      <th></th>\n",
       "      <th>CLAIM_AMOUNT</th>\n",
       "    </tr>\n",
       "    <tr>\n",
       "      <th>AGENT_NAME</th>\n",
       "      <th></th>\n",
       "    </tr>\n",
       "  </thead>\n",
       "  <tbody>\n",
       "    <tr>\n",
       "      <th>Nichole Wright</th>\n",
       "      <td>800</td>\n",
       "    </tr>\n",
       "    <tr>\n",
       "      <th>Sandra Tucker</th>\n",
       "      <td>4200</td>\n",
       "    </tr>\n",
       "    <tr>\n",
       "      <th>Richard Murphy</th>\n",
       "      <td>5300</td>\n",
       "    </tr>\n",
       "    <tr>\n",
       "      <th>Thelma Salinas</th>\n",
       "      <td>5500</td>\n",
       "    </tr>\n",
       "    <tr>\n",
       "      <th>Mary Franklin</th>\n",
       "      <td>5600</td>\n",
       "    </tr>\n",
       "    <tr>\n",
       "      <th>...</th>\n",
       "      <td>...</td>\n",
       "    </tr>\n",
       "    <tr>\n",
       "      <th>Salvador Soriano</th>\n",
       "      <td>400400</td>\n",
       "    </tr>\n",
       "    <tr>\n",
       "      <th>Robert Ward</th>\n",
       "      <td>417100</td>\n",
       "    </tr>\n",
       "    <tr>\n",
       "      <th>Roger Burns</th>\n",
       "      <td>422100</td>\n",
       "    </tr>\n",
       "    <tr>\n",
       "      <th>Clara Barnett</th>\n",
       "      <td>489000</td>\n",
       "    </tr>\n",
       "    <tr>\n",
       "      <th>Don Filkins</th>\n",
       "      <td>528800</td>\n",
       "    </tr>\n",
       "  </tbody>\n",
       "</table>\n",
       "<p>1198 rows × 1 columns</p>\n",
       "</div>"
      ],
      "text/plain": [
       "                  CLAIM_AMOUNT\n",
       "AGENT_NAME                    \n",
       "Nichole Wright             800\n",
       "Sandra Tucker             4200\n",
       "Richard Murphy            5300\n",
       "Thelma Salinas            5500\n",
       "Mary Franklin             5600\n",
       "...                        ...\n",
       "Salvador Soriano        400400\n",
       "Robert Ward             417100\n",
       "Roger Burns             422100\n",
       "Clara Barnett           489000\n",
       "Don Filkins             528800\n",
       "\n",
       "[1198 rows x 1 columns]"
      ]
     },
     "execution_count": 203,
     "metadata": {},
     "output_type": "execute_result"
    }
   ],
   "source": [
    "sus"
   ]
  },
  {
   "cell_type": "code",
   "execution_count": 208,
   "id": "6e11350c",
   "metadata": {},
   "outputs": [
    {
     "data": {
      "text/html": [
       "<div>\n",
       "<style scoped>\n",
       "    .dataframe tbody tr th:only-of-type {\n",
       "        vertical-align: middle;\n",
       "    }\n",
       "\n",
       "    .dataframe tbody tr th {\n",
       "        vertical-align: top;\n",
       "    }\n",
       "\n",
       "    .dataframe thead th {\n",
       "        text-align: right;\n",
       "    }\n",
       "</style>\n",
       "<table border=\"1\" class=\"dataframe\">\n",
       "  <thead>\n",
       "    <tr style=\"text-align: right;\">\n",
       "      <th></th>\n",
       "      <th>CLAIM_AMOUNT</th>\n",
       "      <th>Suspicious</th>\n",
       "    </tr>\n",
       "    <tr>\n",
       "      <th>AGENT_NAME</th>\n",
       "      <th></th>\n",
       "      <th></th>\n",
       "    </tr>\n",
       "  </thead>\n",
       "  <tbody>\n",
       "    <tr>\n",
       "      <th>David Brandenberger</th>\n",
       "      <td>15000</td>\n",
       "      <td>0</td>\n",
       "    </tr>\n",
       "    <tr>\n",
       "      <th>Vincent Ragan</th>\n",
       "      <td>15500</td>\n",
       "      <td>0</td>\n",
       "    </tr>\n",
       "    <tr>\n",
       "      <th>Michael Wolfe</th>\n",
       "      <td>16100</td>\n",
       "      <td>0</td>\n",
       "    </tr>\n",
       "    <tr>\n",
       "      <th>John Kirby</th>\n",
       "      <td>16200</td>\n",
       "      <td>0</td>\n",
       "    </tr>\n",
       "    <tr>\n",
       "      <th>Matthew Stepp</th>\n",
       "      <td>16600</td>\n",
       "      <td>0</td>\n",
       "    </tr>\n",
       "    <tr>\n",
       "      <th>...</th>\n",
       "      <td>...</td>\n",
       "      <td>...</td>\n",
       "    </tr>\n",
       "    <tr>\n",
       "      <th>Salvador Soriano</th>\n",
       "      <td>400400</td>\n",
       "      <td>0</td>\n",
       "    </tr>\n",
       "    <tr>\n",
       "      <th>Robert Ward</th>\n",
       "      <td>417100</td>\n",
       "      <td>0</td>\n",
       "    </tr>\n",
       "    <tr>\n",
       "      <th>Roger Burns</th>\n",
       "      <td>422100</td>\n",
       "      <td>0</td>\n",
       "    </tr>\n",
       "    <tr>\n",
       "      <th>Clara Barnett</th>\n",
       "      <td>489000</td>\n",
       "      <td>0</td>\n",
       "    </tr>\n",
       "    <tr>\n",
       "      <th>Don Filkins</th>\n",
       "      <td>528800</td>\n",
       "      <td>0</td>\n",
       "    </tr>\n",
       "  </tbody>\n",
       "</table>\n",
       "<p>1182 rows × 2 columns</p>\n",
       "</div>"
      ],
      "text/plain": [
       "                     CLAIM_AMOUNT  Suspicious\n",
       "AGENT_NAME                                   \n",
       "David Brandenberger         15000           0\n",
       "Vincent Ragan               15500           0\n",
       "Michael Wolfe               16100           0\n",
       "John Kirby                  16200           0\n",
       "Matthew Stepp               16600           0\n",
       "...                           ...         ...\n",
       "Salvador Soriano           400400           0\n",
       "Robert Ward                417100           0\n",
       "Roger Burns                422100           0\n",
       "Clara Barnett              489000           0\n",
       "Don Filkins                528800           0\n",
       "\n",
       "[1182 rows x 2 columns]"
      ]
     },
     "execution_count": 208,
     "metadata": {},
     "output_type": "execute_result"
    }
   ],
   "source": [
    "# writing condition for suspecious agents\n",
    "sus[sus.CLAIM_AMOUNT>=15000]"
   ]
  },
  {
   "cell_type": "code",
   "execution_count": 205,
   "id": "cc5e2326",
   "metadata": {},
   "outputs": [],
   "source": [
    "sus['Suspicious']=1"
   ]
  },
  {
   "cell_type": "code",
   "execution_count": 206,
   "id": "41547dd7",
   "metadata": {},
   "outputs": [],
   "source": [
    "sus['Suspicious'][sus.CLAIM_AMOUNT>=15000]=0"
   ]
  },
  {
   "cell_type": "code",
   "execution_count": 207,
   "id": "aa71ae9e",
   "metadata": {},
   "outputs": [
    {
     "data": {
      "text/html": [
       "<div>\n",
       "<style scoped>\n",
       "    .dataframe tbody tr th:only-of-type {\n",
       "        vertical-align: middle;\n",
       "    }\n",
       "\n",
       "    .dataframe tbody tr th {\n",
       "        vertical-align: top;\n",
       "    }\n",
       "\n",
       "    .dataframe thead th {\n",
       "        text-align: right;\n",
       "    }\n",
       "</style>\n",
       "<table border=\"1\" class=\"dataframe\">\n",
       "  <thead>\n",
       "    <tr style=\"text-align: right;\">\n",
       "      <th></th>\n",
       "      <th>CLAIM_AMOUNT</th>\n",
       "      <th>Suspicious</th>\n",
       "    </tr>\n",
       "    <tr>\n",
       "      <th>AGENT_NAME</th>\n",
       "      <th></th>\n",
       "      <th></th>\n",
       "    </tr>\n",
       "  </thead>\n",
       "  <tbody>\n",
       "    <tr>\n",
       "      <th>Nichole Wright</th>\n",
       "      <td>800</td>\n",
       "      <td>1</td>\n",
       "    </tr>\n",
       "    <tr>\n",
       "      <th>Sandra Tucker</th>\n",
       "      <td>4200</td>\n",
       "      <td>1</td>\n",
       "    </tr>\n",
       "    <tr>\n",
       "      <th>Richard Murphy</th>\n",
       "      <td>5300</td>\n",
       "      <td>1</td>\n",
       "    </tr>\n",
       "    <tr>\n",
       "      <th>Thelma Salinas</th>\n",
       "      <td>5500</td>\n",
       "      <td>1</td>\n",
       "    </tr>\n",
       "    <tr>\n",
       "      <th>Mary Franklin</th>\n",
       "      <td>5600</td>\n",
       "      <td>1</td>\n",
       "    </tr>\n",
       "    <tr>\n",
       "      <th>...</th>\n",
       "      <td>...</td>\n",
       "      <td>...</td>\n",
       "    </tr>\n",
       "    <tr>\n",
       "      <th>Salvador Soriano</th>\n",
       "      <td>400400</td>\n",
       "      <td>0</td>\n",
       "    </tr>\n",
       "    <tr>\n",
       "      <th>Robert Ward</th>\n",
       "      <td>417100</td>\n",
       "      <td>0</td>\n",
       "    </tr>\n",
       "    <tr>\n",
       "      <th>Roger Burns</th>\n",
       "      <td>422100</td>\n",
       "      <td>0</td>\n",
       "    </tr>\n",
       "    <tr>\n",
       "      <th>Clara Barnett</th>\n",
       "      <td>489000</td>\n",
       "      <td>0</td>\n",
       "    </tr>\n",
       "    <tr>\n",
       "      <th>Don Filkins</th>\n",
       "      <td>528800</td>\n",
       "      <td>0</td>\n",
       "    </tr>\n",
       "  </tbody>\n",
       "</table>\n",
       "<p>1198 rows × 2 columns</p>\n",
       "</div>"
      ],
      "text/plain": [
       "                  CLAIM_AMOUNT  Suspicious\n",
       "AGENT_NAME                                \n",
       "Nichole Wright             800           1\n",
       "Sandra Tucker             4200           1\n",
       "Richard Murphy            5300           1\n",
       "Thelma Salinas            5500           1\n",
       "Mary Franklin             5600           1\n",
       "...                        ...         ...\n",
       "Salvador Soriano        400400           0\n",
       "Robert Ward             417100           0\n",
       "Roger Burns             422100           0\n",
       "Clara Barnett           489000           0\n",
       "Don Filkins             528800           0\n",
       "\n",
       "[1198 rows x 2 columns]"
      ]
     },
     "execution_count": 207,
     "metadata": {},
     "output_type": "execute_result"
    }
   ],
   "source": [
    "sus"
   ]
  },
  {
   "cell_type": "code",
   "execution_count": 214,
   "id": "d1759ca4",
   "metadata": {},
   "outputs": [
    {
     "data": {
      "text/plain": [
       "0    1182\n",
       "1      16\n",
       "Name: Suspicious, dtype: int64"
      ]
     },
     "execution_count": 214,
     "metadata": {},
     "output_type": "execute_result"
    }
   ],
   "source": [
    "sus.Suspicious.value_counts()"
   ]
  },
  {
   "cell_type": "markdown",
   "id": "54ff8dc4",
   "metadata": {},
   "source": [
    "__\"There are a total of 16 Agents who are Suspicious__\""
   ]
  },
  {
   "cell_type": "markdown",
   "id": "f9fb25a6",
   "metadata": {},
   "source": [
    "# THANKYOU FOR THE PATIENCE!!"
   ]
  },
  {
   "cell_type": "code",
   "execution_count": null,
   "id": "4761dc26",
   "metadata": {},
   "outputs": [],
   "source": []
  }
 ],
 "metadata": {
  "kernelspec": {
   "display_name": "Python 3 (ipykernel)",
   "language": "python",
   "name": "python3"
  },
  "language_info": {
   "codemirror_mode": {
    "name": "ipython",
    "version": 3
   },
   "file_extension": ".py",
   "mimetype": "text/x-python",
   "name": "python",
   "nbconvert_exporter": "python",
   "pygments_lexer": "ipython3",
   "version": "3.10.5"
  }
 },
 "nbformat": 4,
 "nbformat_minor": 5
}
